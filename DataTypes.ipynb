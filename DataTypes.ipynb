{
 "cells": [
  {
   "cell_type": "markdown",
   "id": "a9e98c28",
   "metadata": {},
   "source": [
    "Empecemos con un dato simple. A diferencia de otros lenguajes de programación como C, Java. Las variables asumen el tipo de dato. \n",
    "\n",
    "En este caso veamos que hace la instrucción type(x) donde x es una variable"
   ]
  },
  {
   "cell_type": "code",
   "execution_count": 1,
   "id": "d6bdba68",
   "metadata": {},
   "outputs": [
    {
     "name": "stdout",
     "output_type": "stream",
     "text": [
      "<class 'int'>\n"
     ]
    }
   ],
   "source": [
    "x=5\n",
    "print(type(x))"
   ]
  },
  {
   "cell_type": "markdown",
   "id": "daa72f99",
   "metadata": {},
   "source": [
    "Veamos otro tipo de variable y como la define python"
   ]
  },
  {
   "cell_type": "code",
   "execution_count": 9,
   "id": "22061216",
   "metadata": {},
   "outputs": [
    {
     "name": "stdout",
     "output_type": "stream",
     "text": [
      "('Platano', 'Manzana', 'Fresa')\n",
      "<class 'tuple'>\n"
     ]
    }
   ],
   "source": [
    "x=(\"Platano\",\"Manzana\",\"Fresa\")\n",
    "print(x)\n",
    "print(type(x))"
   ]
  },
  {
   "cell_type": "markdown",
   "id": "7df6e3c0",
   "metadata": {},
   "source": [
    "Python soporta diversos tipos de datos numéricos.  \n",
    "Como ejemplo veamos las variables x, y, z"
   ]
  },
  {
   "cell_type": "code",
   "execution_count": 14,
   "id": "f591665b",
   "metadata": {},
   "outputs": [
    {
     "name": "stdout",
     "output_type": "stream",
     "text": [
      "1 1.5 1j\n"
     ]
    }
   ],
   "source": [
    "#Tipos de datos numéricos\n",
    "x=1\n",
    "y=1.5\n",
    "z=1j\n",
    "print(x,y,z)"
   ]
  },
  {
   "cell_type": "code",
   "execution_count": 15,
   "id": "9545143b",
   "metadata": {},
   "outputs": [
    {
     "name": "stdout",
     "output_type": "stream",
     "text": [
      "Tipos de x,y,z: <class 'int'> <class 'float'> <class 'complex'>\n"
     ]
    }
   ],
   "source": [
    "print(\"Tipos de x,y,z:\",type(x),type(y),type(z))"
   ]
  },
  {
   "cell_type": "markdown",
   "id": "a66fb9d3",
   "metadata": {},
   "source": [
    "Es posible que tengamos un tipo de dato y queramos utilizarlo o cambiarlo a otro tipo de dato"
   ]
  },
  {
   "cell_type": "code",
   "execution_count": 16,
   "id": "79baee27",
   "metadata": {},
   "outputs": [
    {
     "name": "stdout",
     "output_type": "stream",
     "text": [
      "1.0\n"
     ]
    }
   ],
   "source": [
    "#convert int to float\n",
    "a=float(x)\n",
    "print(a)"
   ]
  },
  {
   "cell_type": "code",
   "execution_count": 17,
   "id": "2187b605",
   "metadata": {},
   "outputs": [
    {
     "name": "stdout",
     "output_type": "stream",
     "text": [
      "1\n"
     ]
    }
   ],
   "source": [
    "#convert float to int\n",
    "b=int(y)\n",
    "print(b)"
   ]
  },
  {
   "cell_type": "code",
   "execution_count": 18,
   "id": "71fe47ed",
   "metadata": {},
   "outputs": [
    {
     "name": "stdout",
     "output_type": "stream",
     "text": [
      "(1+0j)\n"
     ]
    }
   ],
   "source": [
    "#convert int to complex\n",
    "c=complex(x)\n",
    "print(c)"
   ]
  },
  {
   "cell_type": "code",
   "execution_count": 20,
   "id": "393dd301",
   "metadata": {},
   "outputs": [
    {
     "name": "stdout",
     "output_type": "stream",
     "text": [
      "4\n"
     ]
    }
   ],
   "source": [
    "#generate random numbers\n",
    "import random\n",
    "rand_x=random.randrange(1,10)\n",
    "print(rand_x)"
   ]
  },
  {
   "cell_type": "markdown",
   "id": "88d66e24",
   "metadata": {},
   "source": [
    "Iniciaremos viendo los tipos de datos más conocidos\n",
    "Primero iniciamos con las cadenas \"Strings\""
   ]
  },
  {
   "cell_type": "code",
   "execution_count": 21,
   "id": "5aea3538",
   "metadata": {},
   "outputs": [
    {
     "name": "stdout",
     "output_type": "stream",
     "text": [
      "Hola Mundo\n"
     ]
    }
   ],
   "source": [
    "mi_cadena=\"Hola Mundo\"\n",
    "print(mi_cadena)"
   ]
  },
  {
   "cell_type": "code",
   "execution_count": 23,
   "id": "a9179b85",
   "metadata": {},
   "outputs": [
    {
     "name": "stdout",
     "output_type": "stream",
     "text": [
      "a\n"
     ]
    }
   ],
   "source": [
    "print(mi_cadena[3])"
   ]
  },
  {
   "cell_type": "code",
   "execution_count": 22,
   "id": "673dbe69",
   "metadata": {},
   "outputs": [
    {
     "name": "stdout",
     "output_type": "stream",
     "text": [
      "10\n"
     ]
    }
   ],
   "source": [
    "print(len(mi_cadena))"
   ]
  },
  {
   "cell_type": "markdown",
   "id": "e160591f",
   "metadata": {},
   "source": [
    "Veamos algunas funcionas básicas en el manejo de cadenas. \n",
    "Veamos si una subcadena se encuentra en una cadena más grande.\n"
   ]
  },
  {
   "cell_type": "code",
   "execution_count": 28,
   "id": "fff5e87f",
   "metadata": {},
   "outputs": [
    {
     "name": "stdout",
     "output_type": "stream",
     "text": [
      "mundo no está en la cadena de entrada\n"
     ]
    }
   ],
   "source": [
    "xtxt=\"mundo\"\n",
    "if xtxt in mi_cadena:\n",
    "    print(xtxt,\"está en la cadena de entrada\")\n",
    "else:\n",
    "    print(xtxt,\"no está en la cadena de entrada\")"
   ]
  },
  {
   "cell_type": "markdown",
   "id": "c4ebea77",
   "metadata": {},
   "source": [
    "Además veamos como acceder a ciertos elementos de una cadena"
   ]
  },
  {
   "cell_type": "code",
   "execution_count": 34,
   "id": "f22b8b6f",
   "metadata": {},
   "outputs": [
    {
     "name": "stdout",
     "output_type": "stream",
     "text": [
      "la,\n"
     ]
    }
   ],
   "source": [
    "mi_cadena=\"Hola,Mundo\"\n",
    "print(mi_cadena[2:5])"
   ]
  },
  {
   "cell_type": "markdown",
   "id": "5d193195",
   "metadata": {},
   "source": [
    "Está sintaxis la veremos con detalle cuando veamos los arreglos con Numpy, pero en este caso significa imprimir los elementos de la primera posición hasta la posición 5"
   ]
  },
  {
   "cell_type": "code",
   "execution_count": 35,
   "id": "567d99be",
   "metadata": {},
   "outputs": [
    {
     "name": "stdout",
     "output_type": "stream",
     "text": [
      "Hola,\n"
     ]
    }
   ],
   "source": [
    "print(mi_cadena[:5])"
   ]
  },
  {
   "cell_type": "code",
   "execution_count": 36,
   "id": "86e4b4a5",
   "metadata": {},
   "outputs": [
    {
     "name": "stdout",
     "output_type": "stream",
     "text": [
      "la,Mundo\n"
     ]
    }
   ],
   "source": [
    "print(mi_cadena[2:])"
   ]
  },
  {
   "cell_type": "code",
   "execution_count": 39,
   "id": "2c9c3bd6",
   "metadata": {},
   "outputs": [
    {
     "name": "stdout",
     "output_type": "stream",
     "text": [
      "undo\n"
     ]
    }
   ],
   "source": [
    "print(mi_cadena[-4:])"
   ]
  },
  {
   "cell_type": "markdown",
   "id": "46e5980b",
   "metadata": {},
   "source": [
    "Algunas funciones especiales en el manejo de cadenas incluyen:"
   ]
  },
  {
   "cell_type": "code",
   "execution_count": 40,
   "id": "b7c090ff",
   "metadata": {},
   "outputs": [
    {
     "name": "stdout",
     "output_type": "stream",
     "text": [
      "HOLA,MUNDO\n"
     ]
    }
   ],
   "source": [
    "MI_CAD=mi_cadena.upper()\n",
    "print(MI_CAD)"
   ]
  },
  {
   "cell_type": "code",
   "execution_count": 42,
   "id": "2e81cd20",
   "metadata": {},
   "outputs": [
    {
     "name": "stdout",
     "output_type": "stream",
     "text": [
      "hola,mundo\n"
     ]
    }
   ],
   "source": [
    "sml_Mi_cad=MI_CAD.lower()\n",
    "print(sml_Mi_cad)"
   ]
  },
  {
   "cell_type": "code",
   "execution_count": 45,
   "id": "2cd454ac",
   "metadata": {},
   "outputs": [
    {
     "name": "stdout",
     "output_type": "stream",
     "text": [
      "     Hola,    Mundo   \n"
     ]
    }
   ],
   "source": [
    "mi_cadena=\"     Hola,    Mundo   \"\n",
    "print(mi_cadena)"
   ]
  },
  {
   "cell_type": "code",
   "execution_count": 46,
   "id": "1f091af4",
   "metadata": {},
   "outputs": [
    {
     "name": "stdout",
     "output_type": "stream",
     "text": [
      "Hola,    Mundo\n"
     ]
    }
   ],
   "source": [
    "mi_cadena=mi_cadena.strip()\n",
    "print(mi_cadena)"
   ]
  },
  {
   "cell_type": "code",
   "execution_count": 50,
   "id": "2113b6bc",
   "metadata": {},
   "outputs": [
    {
     "name": "stdout",
     "output_type": "stream",
     "text": [
      "Hola,Mundo\n"
     ]
    }
   ],
   "source": [
    "#Como removemos en medio\n",
    "mi_cadena=mi_cadena.replace(\" \",\"\")\n",
    "print(mi_cadena)"
   ]
  },
  {
   "cell_type": "code",
   "execution_count": 51,
   "id": "d0061929",
   "metadata": {},
   "outputs": [
    {
     "name": "stdout",
     "output_type": "stream",
     "text": [
      "HolaMundo\n"
     ]
    }
   ],
   "source": [
    "Mi_Cad1=\"Hola\"\n",
    "Mi_Cad2=\"Mundo\"\n",
    "print(Mi_Cad1+Mi_Cad2)"
   ]
  },
  {
   "cell_type": "code",
   "execution_count": 53,
   "id": "8fa41ef0",
   "metadata": {},
   "outputs": [
    {
     "name": "stdout",
     "output_type": "stream",
     "text": [
      "Hola Mundo\n"
     ]
    }
   ],
   "source": [
    "print(Mi_Cad1+\" \"+Mi_Cad2)"
   ]
  },
  {
   "cell_type": "markdown",
   "id": "5150a2c3",
   "metadata": {},
   "source": [
    "Veamos algunas maneras de imprimir utilizando algunos parámetros para impresión"
   ]
  },
  {
   "cell_type": "code",
   "execution_count": 11,
   "id": "4f6a0a52",
   "metadata": {},
   "outputs": [
    {
     "name": "stdout",
     "output_type": "stream",
     "text": [
      "Quisiera pagar 50 pesos por 3 piezas de pan.\n"
     ]
    }
   ],
   "source": [
    "cantidad = 3\n",
    "elemento = \"pan\"\n",
    "precio = 50\n",
    "mi_orden = \"Quisiera pagar {2} pesos por {0} piezas de {1}.\"\n",
    "print(mi_orden.format(cantidad, elemento, precio))"
   ]
  },
  {
   "cell_type": "code",
   "execution_count": 12,
   "id": "aaf8cd38",
   "metadata": {},
   "outputs": [
    {
     "name": "stdout",
     "output_type": "stream",
     "text": [
      "Quisiera pagar  50  pesos por  3  piezas de  pan\n"
     ]
    }
   ],
   "source": [
    "print(\"Quisiera pagar \",precio,\" pesos por \", cantidad,\" piezas de \",elemento)"
   ]
  },
  {
   "cell_type": "markdown",
   "id": "8919e74d",
   "metadata": {},
   "source": [
    "Ahora veremos otro tipo de datos muy interesantes y que son muy útiles a la hora de trabajar con muchos datos. Hablamos de las listas y de las tuplas. \n",
    "\n",
    "Entenderemos las diferencias principales entre listas y tuplas y conoceremos sus principales funciones y operaciones"
   ]
  },
  {
   "cell_type": "code",
   "execution_count": 14,
   "id": "976cc53e",
   "metadata": {},
   "outputs": [
    {
     "name": "stdout",
     "output_type": "stream",
     "text": [
      "[1, 2, 3, 4]\n"
     ]
    }
   ],
   "source": [
    "mi_lista=[1,2,3,4]\n",
    "print(mi_lista)"
   ]
  },
  {
   "cell_type": "markdown",
   "id": "a254daf4",
   "metadata": {},
   "source": [
    "Agregar elementos a una lista"
   ]
  },
  {
   "cell_type": "code",
   "execution_count": 15,
   "id": "e3093f70",
   "metadata": {},
   "outputs": [
    {
     "name": "stdout",
     "output_type": "stream",
     "text": [
      "[1, 2, 3, 4, 5]\n"
     ]
    }
   ],
   "source": [
    "mi_lista.append(5)\n",
    "print(mi_lista)"
   ]
  },
  {
   "cell_type": "markdown",
   "id": "4d18a0c6",
   "metadata": {},
   "source": [
    "Podemos insertar un elemento en alguna posición en particular"
   ]
  },
  {
   "cell_type": "code",
   "execution_count": 21,
   "id": "413971b7",
   "metadata": {},
   "outputs": [
    {
     "name": "stdout",
     "output_type": "stream",
     "text": [
      "[1, 'nuevo', 2, 3, 4, 5]\n"
     ]
    }
   ],
   "source": [
    "mi_lista.insert(1,\"nuevo\")\n",
    "print(mi_lista)"
   ]
  },
  {
   "cell_type": "code",
   "execution_count": 22,
   "id": "70fd8405",
   "metadata": {},
   "outputs": [],
   "source": [
    "mi_lista.extend([6,\"antiguo\"])"
   ]
  },
  {
   "cell_type": "code",
   "execution_count": 23,
   "id": "e79c66f2",
   "metadata": {},
   "outputs": [
    {
     "name": "stdout",
     "output_type": "stream",
     "text": [
      "[1, 'nuevo', 2, 3, 4, 5, 6, 'antiguo']\n"
     ]
    }
   ],
   "source": [
    "print(mi_lista)"
   ]
  },
  {
   "cell_type": "code",
   "execution_count": 24,
   "id": "d525f069",
   "metadata": {},
   "outputs": [
    {
     "name": "stdout",
     "output_type": "stream",
     "text": [
      "[1, 2, 3, 4, 5, 6, 'antiguo']\n"
     ]
    }
   ],
   "source": [
    "mi_lista.remove(\"nuevo\")\n",
    "print(mi_lista)"
   ]
  },
  {
   "cell_type": "code",
   "execution_count": 26,
   "id": "b6a45f4a",
   "metadata": {},
   "outputs": [
    {
     "ename": "ValueError",
     "evalue": "list.remove(x): x not in list",
     "output_type": "error",
     "traceback": [
      "\u001b[0;31m---------------------------------------------------------------------------\u001b[0m",
      "\u001b[0;31mValueError\u001b[0m                                Traceback (most recent call last)",
      "\u001b[0;32m/var/folders/y9/rk8lvns97q5fghbt6sxcgmlh0000gn/T/ipykernel_11388/1279330862.py\u001b[0m in \u001b[0;36m<module>\u001b[0;34m\u001b[0m\n\u001b[0;32m----> 1\u001b[0;31m \u001b[0mmi_lista\u001b[0m\u001b[0;34m.\u001b[0m\u001b[0mremove\u001b[0m\u001b[0;34m(\u001b[0m\u001b[0;34m\"nuevo\"\u001b[0m\u001b[0;34m)\u001b[0m\u001b[0;34m\u001b[0m\u001b[0;34m\u001b[0m\u001b[0m\n\u001b[0m",
      "\u001b[0;31mValueError\u001b[0m: list.remove(x): x not in list"
     ]
    }
   ],
   "source": [
    "mi_lista.remove(\"nuevo\")"
   ]
  },
  {
   "cell_type": "code",
   "execution_count": 16,
   "id": "2b56a4cb",
   "metadata": {},
   "outputs": [
    {
     "name": "stdout",
     "output_type": "stream",
     "text": [
      "[1, 2, 3, 4, 5]\n",
      "[1, 2, 3, 4]\n"
     ]
    }
   ],
   "source": [
    "print(mi_lista)\n",
    "mi_lista.pop()\n",
    "print(mi_lista)"
   ]
  },
  {
   "cell_type": "code",
   "execution_count": 28,
   "id": "fe7f6add",
   "metadata": {},
   "outputs": [
    {
     "name": "stdout",
     "output_type": "stream",
     "text": [
      "[2, 3, 4, 5, 6]\n"
     ]
    }
   ],
   "source": [
    "del mi_lista[0]\n",
    "print(mi_lista)"
   ]
  },
  {
   "cell_type": "code",
   "execution_count": 29,
   "id": "bc3b5487",
   "metadata": {},
   "outputs": [
    {
     "name": "stdout",
     "output_type": "stream",
     "text": [
      "[]\n"
     ]
    }
   ],
   "source": [
    "mi_lista.clear()\n",
    "print(mi_lista)"
   ]
  },
  {
   "cell_type": "markdown",
   "id": "e0a49856",
   "metadata": {},
   "source": [
    "¿Ahora como recorremos los elementos de una lista?"
   ]
  },
  {
   "cell_type": "code",
   "execution_count": 17,
   "id": "4307e3e2",
   "metadata": {},
   "outputs": [
    {
     "name": "stdout",
     "output_type": "stream",
     "text": [
      "1\n",
      "2\n",
      "3\n",
      "4\n"
     ]
    }
   ],
   "source": [
    "for x in mi_lista:\n",
    "    print(x)"
   ]
  },
  {
   "cell_type": "code",
   "execution_count": 18,
   "id": "d3d0b90a",
   "metadata": {},
   "outputs": [
    {
     "name": "stdout",
     "output_type": "stream",
     "text": [
      "1\n",
      "2\n",
      "3\n",
      "4\n"
     ]
    }
   ],
   "source": [
    "for i in range(len(mi_lista)):\n",
    "    print(mi_lista[i])"
   ]
  },
  {
   "cell_type": "code",
   "execution_count": 19,
   "id": "6a9a08e3",
   "metadata": {},
   "outputs": [
    {
     "name": "stdout",
     "output_type": "stream",
     "text": [
      "1\n",
      "2\n",
      "3\n",
      "4\n"
     ]
    },
    {
     "data": {
      "text/plain": [
       "[None, None, None, None]"
      ]
     },
     "execution_count": 19,
     "metadata": {},
     "output_type": "execute_result"
    }
   ],
   "source": [
    "[print(x) for x in mi_lista]"
   ]
  },
  {
   "cell_type": "markdown",
   "id": "55204daf",
   "metadata": {},
   "source": [
    "Veamos en la PIZARRA como filtrar los elementos pares en una lista arbitraria\n",
    "\n",
    "\n",
    "\n",
    "\n",
    "\n",
    "\n",
    "\n",
    "\n",
    "\n",
    "\n"
   ]
  },
  {
   "cell_type": "code",
   "execution_count": 1,
   "id": "5909275a",
   "metadata": {},
   "outputs": [
    {
     "name": "stdout",
     "output_type": "stream",
     "text": [
      "Lista Original: [1, 2, 3, 4, 5, 6, 7]\n",
      "Nueva Lista [2, 4, 6]\n"
     ]
    }
   ],
   "source": [
    "mi_lista=[1,2,3,4,5,6,7]\n",
    "nueva_lista=[]\n",
    "for x in mi_lista:\n",
    "    if x%2==0:\n",
    "        nueva_lista.append(x)\n",
    "print(\"Lista Original:\",mi_lista)\n",
    "print(\"Nueva Lista\",nueva_lista)"
   ]
  },
  {
   "cell_type": "markdown",
   "id": "3260456c",
   "metadata": {},
   "source": [
    "Podemos filtrar de otras formas"
   ]
  },
  {
   "cell_type": "code",
   "execution_count": 3,
   "id": "29c0da03",
   "metadata": {},
   "outputs": [
    {
     "name": "stdout",
     "output_type": "stream",
     "text": [
      "[4, 5, 6, 7]\n"
     ]
    }
   ],
   "source": [
    "nueva_lista=[x for x in mi_lista if x>3 & x<9]\n",
    "print(nueva_lista)"
   ]
  },
  {
   "cell_type": "markdown",
   "id": "445de790",
   "metadata": {},
   "source": [
    "¿Como utilizaríamos este tipo de filtro para filtrar datos pares?"
   ]
  },
  {
   "cell_type": "code",
   "execution_count": 22,
   "id": "c45f6888",
   "metadata": {},
   "outputs": [
    {
     "name": "stdout",
     "output_type": "stream",
     "text": [
      "[2, 4, 6]\n"
     ]
    }
   ],
   "source": [
    "lista_par=[x for x in mi_lista if x%2==0]\n",
    "print(lista_par)"
   ]
  },
  {
   "cell_type": "markdown",
   "id": "29e69eb7",
   "metadata": {},
   "source": [
    "Veamos ahora algunas funciones de ordenamiento."
   ]
  },
  {
   "cell_type": "code",
   "execution_count": 36,
   "id": "0cdad467",
   "metadata": {},
   "outputs": [
    {
     "name": "stdout",
     "output_type": "stream",
     "text": [
      "[7, 6, 5, 4, 3, 2, 1]\n"
     ]
    }
   ],
   "source": [
    "mi_lista.sort(reverse=True)\n",
    "print(mi_lista)"
   ]
  },
  {
   "cell_type": "code",
   "execution_count": 37,
   "id": "db2b3bc5",
   "metadata": {},
   "outputs": [
    {
     "name": "stdout",
     "output_type": "stream",
     "text": [
      "[1, 2, 3, 4, 5, 6, 7]\n"
     ]
    }
   ],
   "source": [
    "mi_lista.sort()\n",
    "print(mi_lista)"
   ]
  },
  {
   "cell_type": "markdown",
   "id": "13299da9",
   "metadata": {},
   "source": [
    "Funciones dentro de listas\n",
    "\n",
    "Funciones dentro de listas\n",
    "\n",
    "Funciones dentro de listas\n",
    "\n",
    "Funciones dentro de listas\n",
    "\n",
    "Funciones dentro de listas\n"
   ]
  },
  {
   "cell_type": "markdown",
   "id": "6af6e085",
   "metadata": {},
   "source": [
    "Hagamos un ordenamiento especial. Que ordene los elementos de la lista para ver que tan cerca están de determinado valor"
   ]
  },
  {
   "cell_type": "code",
   "execution_count": 27,
   "id": "2328d5ec",
   "metadata": {},
   "outputs": [
    {
     "name": "stdout",
     "output_type": "stream",
     "text": [
      "[5, 4, 6, 3, 7, 2, 1]\n"
     ]
    }
   ],
   "source": [
    "def funcion_centro(n):\n",
    "    return abs(n-5)\n",
    "\n",
    "mi_lista.sort(key=funcion_centro)\n",
    "print(mi_lista)"
   ]
  },
  {
   "cell_type": "markdown",
   "id": "13099fdf",
   "metadata": {},
   "source": [
    "TUPLAS\n",
    "\n",
    "TUPLAS\n",
    "\n",
    "TUPLAS\n",
    "\n",
    "TUPLAS\n",
    "\n",
    "TUPLAS\n",
    "\n",
    "TUPLAS\n",
    "\n",
    "TUPLAS"
   ]
  },
  {
   "cell_type": "code",
   "execution_count": 39,
   "id": "2d95e152",
   "metadata": {},
   "outputs": [
    {
     "name": "stdout",
     "output_type": "stream",
     "text": [
      "(1, 2, 3, 4, 5, 6)\n",
      "1\n"
     ]
    }
   ],
   "source": [
    "mi_tupla=(1,2,3,4,5,6)\n",
    "print(mi_tupla)\n",
    "print(mi_tupla[0])"
   ]
  },
  {
   "cell_type": "code",
   "execution_count": 40,
   "id": "2efa5e0a",
   "metadata": {},
   "outputs": [
    {
     "name": "stdout",
     "output_type": "stream",
     "text": [
      "6\n"
     ]
    }
   ],
   "source": [
    "print(mi_tupla[-1])"
   ]
  },
  {
   "cell_type": "code",
   "execution_count": 41,
   "id": "860f06a7",
   "metadata": {},
   "outputs": [
    {
     "name": "stdout",
     "output_type": "stream",
     "text": [
      "(3, 4, 5)\n"
     ]
    }
   ],
   "source": [
    "print(mi_tupla[2:5])"
   ]
  },
  {
   "cell_type": "code",
   "execution_count": 42,
   "id": "123b7313",
   "metadata": {},
   "outputs": [
    {
     "name": "stdout",
     "output_type": "stream",
     "text": [
      "(1, 2, 3, 4)\n"
     ]
    }
   ],
   "source": [
    "print(mi_tupla[:4])"
   ]
  },
  {
   "cell_type": "code",
   "execution_count": 43,
   "id": "860cd477",
   "metadata": {},
   "outputs": [
    {
     "name": "stdout",
     "output_type": "stream",
     "text": [
      "(3, 4, 5, 6)\n"
     ]
    }
   ],
   "source": [
    "print(mi_tupla[2:])"
   ]
  },
  {
   "cell_type": "code",
   "execution_count": 44,
   "id": "798623e0",
   "metadata": {},
   "outputs": [
    {
     "name": "stdout",
     "output_type": "stream",
     "text": [
      "1\n",
      "2\n",
      "3\n",
      "4\n",
      "5\n",
      "6\n"
     ]
    }
   ],
   "source": [
    "#Recorriendo una tupla\n",
    "for x in mi_tupla:\n",
    "    print(x)"
   ]
  },
  {
   "cell_type": "code",
   "execution_count": 45,
   "id": "2e9e8214",
   "metadata": {},
   "outputs": [
    {
     "name": "stdout",
     "output_type": "stream",
     "text": [
      "1\n",
      "2\n",
      "3\n",
      "4\n",
      "5\n",
      "6\n"
     ]
    }
   ],
   "source": [
    "for i in range(len(mi_tupla)):\n",
    "    print(mi_tupla[i])"
   ]
  },
  {
   "cell_type": "markdown",
   "id": "84c76bea",
   "metadata": {},
   "source": [
    "Concatenemos una tupla a otra tupla"
   ]
  },
  {
   "cell_type": "code",
   "execution_count": 46,
   "id": "273c55c5",
   "metadata": {},
   "outputs": [
    {
     "name": "stdout",
     "output_type": "stream",
     "text": [
      "(1, 2, 3, 4, 5, 6, 5, 6, 7, 'Hola')\n"
     ]
    }
   ],
   "source": [
    "mi_tupla2=(5,6,7,\"Hola\")\n",
    "nueva_tupla=mi_tupla+mi_tupla2\n",
    "print(nueva_tupla)"
   ]
  },
  {
   "cell_type": "markdown",
   "id": "82213309",
   "metadata": {},
   "source": [
    "Veamos las principales diferencias entre una tupla y una lista"
   ]
  },
  {
   "cell_type": "code",
   "execution_count": 29,
   "id": "d6fbd5c5",
   "metadata": {},
   "outputs": [],
   "source": [
    "mi_lista=[1,2,3,4]\n",
    "mi_tupla=(1,2,3,4)"
   ]
  },
  {
   "cell_type": "code",
   "execution_count": 30,
   "id": "23339140",
   "metadata": {},
   "outputs": [
    {
     "name": "stdout",
     "output_type": "stream",
     "text": [
      "4\n"
     ]
    }
   ],
   "source": [
    "print(mi_lista[-1])"
   ]
  },
  {
   "cell_type": "code",
   "execution_count": 31,
   "id": "e92a5fd1",
   "metadata": {},
   "outputs": [
    {
     "name": "stdout",
     "output_type": "stream",
     "text": [
      "[1, 2, 3, 4]\n",
      "(1, 2, 3, 4)\n"
     ]
    }
   ],
   "source": [
    "print(mi_lista)\n",
    "print(mi_tupla)"
   ]
  },
  {
   "cell_type": "code",
   "execution_count": 50,
   "id": "bb481d96",
   "metadata": {},
   "outputs": [
    {
     "name": "stdout",
     "output_type": "stream",
     "text": [
      "[]\n"
     ]
    }
   ],
   "source": [
    "mi_lista.clear()\n",
    "print(mi_lista)"
   ]
  },
  {
   "cell_type": "markdown",
   "id": "7111d2be",
   "metadata": {},
   "source": [
    "Cambiar un elemento de una lista y cambiar un elemento de una tupla"
   ]
  },
  {
   "cell_type": "code",
   "execution_count": 51,
   "id": "dd90490e",
   "metadata": {},
   "outputs": [
    {
     "data": {
      "text/plain": [
       "3"
      ]
     },
     "execution_count": 51,
     "metadata": {},
     "output_type": "execute_result"
    }
   ],
   "source": [
    "mi_tupla[2]"
   ]
  },
  {
   "cell_type": "code",
   "execution_count": 33,
   "id": "205c43cb",
   "metadata": {},
   "outputs": [
    {
     "name": "stdout",
     "output_type": "stream",
     "text": [
      "[1, 5, 3, 4]\n"
     ]
    }
   ],
   "source": [
    "mi_lista[1]=5\n",
    "print(mi_lista)"
   ]
  },
  {
   "cell_type": "code",
   "execution_count": 34,
   "id": "ac37e310",
   "metadata": {},
   "outputs": [
    {
     "ename": "TypeError",
     "evalue": "'tuple' object does not support item assignment",
     "output_type": "error",
     "traceback": [
      "\u001b[0;31m---------------------------------------------------------------------------\u001b[0m",
      "\u001b[0;31mTypeError\u001b[0m                                 Traceback (most recent call last)",
      "\u001b[0;32m/var/folders/y9/rk8lvns97q5fghbt6sxcgmlh0000gn/T/ipykernel_54666/2205035270.py\u001b[0m in \u001b[0;36m<module>\u001b[0;34m\u001b[0m\n\u001b[0;32m----> 1\u001b[0;31m \u001b[0mmi_tupla\u001b[0m\u001b[0;34m[\u001b[0m\u001b[0;36m2\u001b[0m\u001b[0;34m]\u001b[0m\u001b[0;34m=\u001b[0m\u001b[0;36m5\u001b[0m\u001b[0;34m\u001b[0m\u001b[0;34m\u001b[0m\u001b[0m\n\u001b[0m",
      "\u001b[0;31mTypeError\u001b[0m: 'tuple' object does not support item assignment"
     ]
    }
   ],
   "source": [
    "mi_tupla[2]=5"
   ]
  },
  {
   "cell_type": "markdown",
   "id": "730856a3",
   "metadata": {},
   "source": [
    "Funciones asociadas a una lista y a una tupla"
   ]
  },
  {
   "cell_type": "code",
   "execution_count": 53,
   "id": "c0c20dd7",
   "metadata": {},
   "outputs": [
    {
     "data": {
      "text/plain": [
       "['__add__',\n",
       " '__class__',\n",
       " '__contains__',\n",
       " '__delattr__',\n",
       " '__delitem__',\n",
       " '__dir__',\n",
       " '__doc__',\n",
       " '__eq__',\n",
       " '__format__',\n",
       " '__ge__',\n",
       " '__getattribute__',\n",
       " '__getitem__',\n",
       " '__gt__',\n",
       " '__hash__',\n",
       " '__iadd__',\n",
       " '__imul__',\n",
       " '__init__',\n",
       " '__init_subclass__',\n",
       " '__iter__',\n",
       " '__le__',\n",
       " '__len__',\n",
       " '__lt__',\n",
       " '__mul__',\n",
       " '__ne__',\n",
       " '__new__',\n",
       " '__reduce__',\n",
       " '__reduce_ex__',\n",
       " '__repr__',\n",
       " '__reversed__',\n",
       " '__rmul__',\n",
       " '__setattr__',\n",
       " '__setitem__',\n",
       " '__sizeof__',\n",
       " '__str__',\n",
       " '__subclasshook__',\n",
       " 'append',\n",
       " 'clear',\n",
       " 'copy',\n",
       " 'count',\n",
       " 'extend',\n",
       " 'index',\n",
       " 'insert',\n",
       " 'pop',\n",
       " 'remove',\n",
       " 'reverse',\n",
       " 'sort']"
      ]
     },
     "execution_count": 53,
     "metadata": {},
     "output_type": "execute_result"
    }
   ],
   "source": [
    "dir(mi_lista)"
   ]
  },
  {
   "cell_type": "markdown",
   "id": "634b010d",
   "metadata": {},
   "source": [
    "Funciones asociadas a una lista y a una tupla\n"
   ]
  },
  {
   "cell_type": "code",
   "execution_count": 54,
   "id": "b1b4b26e",
   "metadata": {},
   "outputs": [
    {
     "data": {
      "text/plain": [
       "['__add__',\n",
       " '__class__',\n",
       " '__contains__',\n",
       " '__delattr__',\n",
       " '__dir__',\n",
       " '__doc__',\n",
       " '__eq__',\n",
       " '__format__',\n",
       " '__ge__',\n",
       " '__getattribute__',\n",
       " '__getitem__',\n",
       " '__getnewargs__',\n",
       " '__gt__',\n",
       " '__hash__',\n",
       " '__init__',\n",
       " '__init_subclass__',\n",
       " '__iter__',\n",
       " '__le__',\n",
       " '__len__',\n",
       " '__lt__',\n",
       " '__mul__',\n",
       " '__ne__',\n",
       " '__new__',\n",
       " '__reduce__',\n",
       " '__reduce_ex__',\n",
       " '__repr__',\n",
       " '__rmul__',\n",
       " '__setattr__',\n",
       " '__sizeof__',\n",
       " '__str__',\n",
       " '__subclasshook__',\n",
       " 'count',\n",
       " 'index']"
      ]
     },
     "execution_count": 54,
     "metadata": {},
     "output_type": "execute_result"
    }
   ],
   "source": [
    "dir(mi_tupla)"
   ]
  },
  {
   "cell_type": "markdown",
   "id": "da5a0ee9",
   "metadata": {},
   "source": [
    "Ahora veamos como trabajar con funciones"
   ]
  },
  {
   "cell_type": "code",
   "execution_count": 55,
   "id": "324c9aa5",
   "metadata": {},
   "outputs": [
    {
     "name": "stdout",
     "output_type": "stream",
     "text": [
      "Cadena: Hola Mundo\n"
     ]
    }
   ],
   "source": [
    "#Funciones\n",
    "def my_funcion(cadena):\n",
    "    print(\"Cadena:\",cadena)\n",
    "\n",
    "my_funcion(\"Hola Mundo\")"
   ]
  },
  {
   "cell_type": "markdown",
   "id": "969a07b4",
   "metadata": {},
   "source": [
    "Función para calcular el factorial"
   ]
  },
  {
   "cell_type": "code",
   "execution_count": 56,
   "id": "bf9ddda9",
   "metadata": {},
   "outputs": [
    {
     "data": {
      "text/plain": [
       "120"
      ]
     },
     "execution_count": 56,
     "metadata": {},
     "output_type": "execute_result"
    }
   ],
   "source": [
    "#Funcion para calcular el factorial de un número n\n",
    "\n",
    "def factorial(n):\n",
    "    if n<2:\n",
    "        return 1\n",
    "    else:\n",
    "        return n*factorial(n-1)\n",
    "    \n",
    "\n",
    "factorial(5)\n"
   ]
  },
  {
   "cell_type": "markdown",
   "id": "a47637fb",
   "metadata": {},
   "source": [
    "Hagamos una función que reciba como parametro una lista L de enteros y un valor entero x y regrese una sublista que contenga únicamente los valores enteros de la lista L que son mayores al valor x"
   ]
  },
  {
   "cell_type": "code",
   "execution_count": 35,
   "id": "310288fa",
   "metadata": {},
   "outputs": [
    {
     "name": "stdout",
     "output_type": "stream",
     "text": [
      "Lista Original: [1, 2, 3, 4, 5, 6, 7, 8]\n",
      "Lista Mayores: [4, 5, 6, 7, 8]\n"
     ]
    }
   ],
   "source": [
    "def sublistaMayores(L,x):\n",
    "    nuevaLista=[]\n",
    "    for i in L:\n",
    "        if i>=x:\n",
    "            nuevaLista.append(i)\n",
    "    return nuevaLista\n",
    "\n",
    "X=[1,2,3,4,5,6,7,8]\n",
    "print(\"Lista Original:\",X)\n",
    "Y=sublistaMayores(X,4)\n",
    "print(\"Lista Mayores:\",Y)"
   ]
  }
 ],
 "metadata": {
  "kernelspec": {
   "display_name": "Python 3 (ipykernel)",
   "language": "python",
   "name": "python3"
  },
  "language_info": {
   "codemirror_mode": {
    "name": "ipython",
    "version": 3
   },
   "file_extension": ".py",
   "mimetype": "text/x-python",
   "name": "python",
   "nbconvert_exporter": "python",
   "pygments_lexer": "ipython3",
   "version": "3.8.12"
  }
 },
 "nbformat": 4,
 "nbformat_minor": 5
}
