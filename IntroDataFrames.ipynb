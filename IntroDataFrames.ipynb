{
 "cells": [
  {
   "cell_type": "code",
   "execution_count": 93,
   "id": "6edae37b",
   "metadata": {},
   "outputs": [],
   "source": [
    "import numpy as np\n",
    "import pandas as pd"
   ]
  },
  {
   "cell_type": "markdown",
   "id": "eaf2ad61",
   "metadata": {},
   "source": [
    "Crearemos una serie de datos"
   ]
  },
  {
   "cell_type": "code",
   "execution_count": 94,
   "id": "a880abfc",
   "metadata": {},
   "outputs": [
    {
     "name": "stdout",
     "output_type": "stream",
     "text": [
      "a    1\n",
      "b    2\n",
      "c    3\n",
      "d    4\n",
      "dtype: int64\n"
     ]
    }
   ],
   "source": [
    "d = {'a': 1, 'b': 2, 'c': 3,'d':4}\n",
    "data=pd.Series(data=d)\n",
    "print(data)"
   ]
  },
  {
   "cell_type": "markdown",
   "id": "67766df8",
   "metadata": {},
   "source": [
    "Acceder a un elemento dado"
   ]
  },
  {
   "cell_type": "code",
   "execution_count": 95,
   "id": "cee5323b",
   "metadata": {},
   "outputs": [
    {
     "data": {
      "text/plain": [
       "4"
      ]
     },
     "execution_count": 95,
     "metadata": {},
     "output_type": "execute_result"
    }
   ],
   "source": [
    "data[-1]"
   ]
  },
  {
   "cell_type": "code",
   "execution_count": 96,
   "id": "1eec2caf",
   "metadata": {},
   "outputs": [
    {
     "data": {
      "text/plain": [
       "d    4\n",
       "c    3\n",
       "b    2\n",
       "a    1\n",
       "dtype: int64"
      ]
     },
     "execution_count": 96,
     "metadata": {},
     "output_type": "execute_result"
    }
   ],
   "source": [
    "data[::-1]"
   ]
  },
  {
   "cell_type": "code",
   "execution_count": 97,
   "id": "d1f0ec8b",
   "metadata": {},
   "outputs": [
    {
     "data": {
      "text/plain": [
       "b    2\n",
       "c    3\n",
       "dtype: int64"
      ]
     },
     "execution_count": 97,
     "metadata": {},
     "output_type": "execute_result"
    }
   ],
   "source": [
    "data[1:3]"
   ]
  },
  {
   "cell_type": "markdown",
   "id": "233a4734",
   "metadata": {},
   "source": [
    "En los dataframes podemos manipular los índices"
   ]
  },
  {
   "cell_type": "code",
   "execution_count": 98,
   "id": "de3c0786",
   "metadata": {},
   "outputs": [
    {
     "data": {
      "text/plain": [
       "a    2\n",
       "b    4\n",
       "c    6\n",
       "d    8\n",
       "dtype: int64"
      ]
     },
     "execution_count": 98,
     "metadata": {},
     "output_type": "execute_result"
    }
   ],
   "source": [
    "data = pd.Series([2, 4, 6, 8],\n",
    "                 index=['a', 'b', 'c', 'd'])\n",
    "data"
   ]
  },
  {
   "cell_type": "code",
   "execution_count": 99,
   "id": "b7e7a8d9",
   "metadata": {},
   "outputs": [
    {
     "data": {
      "text/plain": [
       "4"
      ]
     },
     "execution_count": 99,
     "metadata": {},
     "output_type": "execute_result"
    }
   ],
   "source": [
    "data['b']"
   ]
  },
  {
   "cell_type": "code",
   "execution_count": 100,
   "id": "1d2bd7ed",
   "metadata": {},
   "outputs": [
    {
     "data": {
      "text/plain": [
       "b    4\n",
       "c    6\n",
       "d    8\n",
       "dtype: int64"
      ]
     },
     "execution_count": 100,
     "metadata": {},
     "output_type": "execute_result"
    }
   ],
   "source": [
    "data['b':'d']"
   ]
  },
  {
   "cell_type": "markdown",
   "id": "e17ee845",
   "metadata": {},
   "source": [
    "Podemos crear un diccionario personalizado por ejemplo saquemos información de las principales ciudades de Coahuila"
   ]
  },
  {
   "cell_type": "code",
   "execution_count": 101,
   "id": "abe0b397",
   "metadata": {},
   "outputs": [
    {
     "data": {
      "text/plain": [
       "Torreon     720848\n",
       "Monclova    231107\n",
       "Saltillo    807537\n",
       "Zaragoza     12411\n",
       "Arteaga       6100\n",
       "dtype: int64"
      ]
     },
     "execution_count": 101,
     "metadata": {},
     "output_type": "execute_result"
    }
   ],
   "source": [
    "dicc_poblacion = {'Torreon': 720848,\n",
    "                   'Monclova': 231107,\n",
    "                   'Saltillo': 807537,\n",
    "                   'Zaragoza': 12411,\n",
    "                   'Arteaga': 6100}\n",
    "poblacion = pd.Series(dicc_poblacion)\n",
    "poblacion"
   ]
  },
  {
   "cell_type": "code",
   "execution_count": 102,
   "id": "d512e9ba",
   "metadata": {},
   "outputs": [
    {
     "data": {
      "text/plain": [
       "807537"
      ]
     },
     "execution_count": 102,
     "metadata": {},
     "output_type": "execute_result"
    }
   ],
   "source": [
    "poblacion['Saltillo']"
   ]
  },
  {
   "cell_type": "code",
   "execution_count": 103,
   "id": "20eae2c1",
   "metadata": {},
   "outputs": [],
   "source": [
    "poblacion['Saltillo']=807690"
   ]
  },
  {
   "cell_type": "code",
   "execution_count": 104,
   "id": "c0b864d0",
   "metadata": {},
   "outputs": [
    {
     "data": {
      "text/plain": [
       "807690"
      ]
     },
     "execution_count": 104,
     "metadata": {},
     "output_type": "execute_result"
    }
   ],
   "source": [
    "poblacion['Saltillo']"
   ]
  },
  {
   "cell_type": "code",
   "execution_count": 105,
   "id": "29f113a7",
   "metadata": {},
   "outputs": [
    {
     "data": {
      "text/plain": [
       "Monclova    231107\n",
       "Saltillo    807690\n",
       "Zaragoza     12411\n",
       "dtype: int64"
      ]
     },
     "execution_count": 105,
     "metadata": {},
     "output_type": "execute_result"
    }
   ],
   "source": [
    "poblacion['Monclova':'Zaragoza']"
   ]
  },
  {
   "cell_type": "code",
   "execution_count": 106,
   "id": "51d1e395",
   "metadata": {},
   "outputs": [
    {
     "name": "stdout",
     "output_type": "stream",
     "text": [
      "Torreon     1500\n",
      "Monclova    1700\n",
      "Saltillo    3500\n",
      "Zaragoza    2000\n",
      "Arteaga      900\n",
      "dtype: int64\n"
     ]
    }
   ],
   "source": [
    "dicc_area= {'Torreon': 1500,\n",
    "                   'Monclova': 1700,\n",
    "                   'Saltillo': 3500,\n",
    "                   'Zaragoza':2000,\n",
    "                   'Arteaga': 900}\n",
    "\n",
    "area=pd.Series(dicc_area)\n",
    "print(area)\n"
   ]
  },
  {
   "cell_type": "markdown",
   "id": "bddb5843",
   "metadata": {},
   "source": [
    "Ahora crearemos un DataFrame"
   ]
  },
  {
   "cell_type": "code",
   "execution_count": 107,
   "id": "46a3084d",
   "metadata": {},
   "outputs": [
    {
     "data": {
      "text/html": [
       "<div>\n",
       "<style scoped>\n",
       "    .dataframe tbody tr th:only-of-type {\n",
       "        vertical-align: middle;\n",
       "    }\n",
       "\n",
       "    .dataframe tbody tr th {\n",
       "        vertical-align: top;\n",
       "    }\n",
       "\n",
       "    .dataframe thead th {\n",
       "        text-align: right;\n",
       "    }\n",
       "</style>\n",
       "<table border=\"1\" class=\"dataframe\">\n",
       "  <thead>\n",
       "    <tr style=\"text-align: right;\">\n",
       "      <th></th>\n",
       "      <th>Poblacion</th>\n",
       "      <th>Area</th>\n",
       "    </tr>\n",
       "  </thead>\n",
       "  <tbody>\n",
       "    <tr>\n",
       "      <th>Torreon</th>\n",
       "      <td>720848</td>\n",
       "      <td>1500</td>\n",
       "    </tr>\n",
       "    <tr>\n",
       "      <th>Monclova</th>\n",
       "      <td>231107</td>\n",
       "      <td>1700</td>\n",
       "    </tr>\n",
       "    <tr>\n",
       "      <th>Saltillo</th>\n",
       "      <td>807690</td>\n",
       "      <td>3500</td>\n",
       "    </tr>\n",
       "    <tr>\n",
       "      <th>Zaragoza</th>\n",
       "      <td>12411</td>\n",
       "      <td>2000</td>\n",
       "    </tr>\n",
       "    <tr>\n",
       "      <th>Arteaga</th>\n",
       "      <td>6100</td>\n",
       "      <td>900</td>\n",
       "    </tr>\n",
       "  </tbody>\n",
       "</table>\n",
       "</div>"
      ],
      "text/plain": [
       "          Poblacion  Area\n",
       "Torreon      720848  1500\n",
       "Monclova     231107  1700\n",
       "Saltillo     807690  3500\n",
       "Zaragoza      12411  2000\n",
       "Arteaga        6100   900"
      ]
     },
     "execution_count": 107,
     "metadata": {},
     "output_type": "execute_result"
    }
   ],
   "source": [
    "ciudades_coah=pd.DataFrame({'Poblacion':poblacion, 'Area':area})\n",
    "ciudades_coah"
   ]
  },
  {
   "cell_type": "code",
   "execution_count": 108,
   "id": "a49ec860",
   "metadata": {},
   "outputs": [
    {
     "data": {
      "text/plain": [
       "Index(['Torreon', 'Monclova', 'Saltillo', 'Zaragoza', 'Arteaga'], dtype='object')"
      ]
     },
     "execution_count": 108,
     "metadata": {},
     "output_type": "execute_result"
    }
   ],
   "source": [
    "ciudades_coah.index"
   ]
  },
  {
   "cell_type": "code",
   "execution_count": 109,
   "id": "cc6de345",
   "metadata": {},
   "outputs": [
    {
     "data": {
      "text/plain": [
       "Index(['Poblacion', 'Area'], dtype='object')"
      ]
     },
     "execution_count": 109,
     "metadata": {},
     "output_type": "execute_result"
    }
   ],
   "source": [
    "ciudades_coah.columns"
   ]
  },
  {
   "cell_type": "code",
   "execution_count": 110,
   "id": "b1d0f3f1",
   "metadata": {},
   "outputs": [
    {
     "data": {
      "text/plain": [
       "Torreon     1500\n",
       "Monclova    1700\n",
       "Saltillo    3500\n",
       "Zaragoza    2000\n",
       "Arteaga      900\n",
       "Name: Area, dtype: int64"
      ]
     },
     "execution_count": 110,
     "metadata": {},
     "output_type": "execute_result"
    }
   ],
   "source": [
    "ciudades_coah['Area']"
   ]
  },
  {
   "cell_type": "markdown",
   "id": "b57a59c1",
   "metadata": {},
   "source": [
    "Crearemos ahora una matriz de números aleatorios como un DataFrame de 5 filas con 4 columnas"
   ]
  },
  {
   "cell_type": "code",
   "execution_count": 111,
   "id": "9bc1964d",
   "metadata": {},
   "outputs": [
    {
     "data": {
      "text/html": [
       "<div>\n",
       "<style scoped>\n",
       "    .dataframe tbody tr th:only-of-type {\n",
       "        vertical-align: middle;\n",
       "    }\n",
       "\n",
       "    .dataframe tbody tr th {\n",
       "        vertical-align: top;\n",
       "    }\n",
       "\n",
       "    .dataframe thead th {\n",
       "        text-align: right;\n",
       "    }\n",
       "</style>\n",
       "<table border=\"1\" class=\"dataframe\">\n",
       "  <thead>\n",
       "    <tr style=\"text-align: right;\">\n",
       "      <th></th>\n",
       "      <th>A</th>\n",
       "      <th>B</th>\n",
       "      <th>C</th>\n",
       "      <th>D</th>\n",
       "    </tr>\n",
       "  </thead>\n",
       "  <tbody>\n",
       "    <tr>\n",
       "      <th>0</th>\n",
       "      <td>12</td>\n",
       "      <td>4</td>\n",
       "      <td>16</td>\n",
       "      <td>6</td>\n",
       "    </tr>\n",
       "    <tr>\n",
       "      <th>1</th>\n",
       "      <td>5</td>\n",
       "      <td>13</td>\n",
       "      <td>15</td>\n",
       "      <td>12</td>\n",
       "    </tr>\n",
       "    <tr>\n",
       "      <th>2</th>\n",
       "      <td>6</td>\n",
       "      <td>6</td>\n",
       "      <td>2</td>\n",
       "      <td>1</td>\n",
       "    </tr>\n",
       "    <tr>\n",
       "      <th>3</th>\n",
       "      <td>8</td>\n",
       "      <td>9</td>\n",
       "      <td>1</td>\n",
       "      <td>4</td>\n",
       "    </tr>\n",
       "    <tr>\n",
       "      <th>4</th>\n",
       "      <td>13</td>\n",
       "      <td>6</td>\n",
       "      <td>17</td>\n",
       "      <td>16</td>\n",
       "    </tr>\n",
       "  </tbody>\n",
       "</table>\n",
       "</div>"
      ],
      "text/plain": [
       "    A   B   C   D\n",
       "0  12   4  16   6\n",
       "1   5  13  15  12\n",
       "2   6   6   2   1\n",
       "3   8   9   1   4\n",
       "4  13   6  17  16"
      ]
     },
     "execution_count": 111,
     "metadata": {},
     "output_type": "execute_result"
    }
   ],
   "source": [
    "miDF=pd.DataFrame(np.random.randint(0,20,size=(5,4)), columns= ['A','B','C','D'])\n",
    "miDF"
   ]
  },
  {
   "cell_type": "markdown",
   "id": "f70f8634",
   "metadata": {},
   "source": [
    "Crearemos una nueva función que consista en la raíz cuadrada de cada uno de los elementos del dataset que acabamos de crear miDF "
   ]
  },
  {
   "cell_type": "code",
   "execution_count": 112,
   "id": "3f6f22cd",
   "metadata": {},
   "outputs": [
    {
     "data": {
      "text/html": [
       "<div>\n",
       "<style scoped>\n",
       "    .dataframe tbody tr th:only-of-type {\n",
       "        vertical-align: middle;\n",
       "    }\n",
       "\n",
       "    .dataframe tbody tr th {\n",
       "        vertical-align: top;\n",
       "    }\n",
       "\n",
       "    .dataframe thead th {\n",
       "        text-align: right;\n",
       "    }\n",
       "</style>\n",
       "<table border=\"1\" class=\"dataframe\">\n",
       "  <thead>\n",
       "    <tr style=\"text-align: right;\">\n",
       "      <th></th>\n",
       "      <th>A</th>\n",
       "      <th>B</th>\n",
       "      <th>C</th>\n",
       "      <th>D</th>\n",
       "    </tr>\n",
       "  </thead>\n",
       "  <tbody>\n",
       "    <tr>\n",
       "      <th>0</th>\n",
       "      <td>3.464102</td>\n",
       "      <td>2.000000</td>\n",
       "      <td>4.000000</td>\n",
       "      <td>2.449490</td>\n",
       "    </tr>\n",
       "    <tr>\n",
       "      <th>1</th>\n",
       "      <td>2.236068</td>\n",
       "      <td>3.605551</td>\n",
       "      <td>3.872983</td>\n",
       "      <td>3.464102</td>\n",
       "    </tr>\n",
       "    <tr>\n",
       "      <th>2</th>\n",
       "      <td>2.449490</td>\n",
       "      <td>2.449490</td>\n",
       "      <td>1.414214</td>\n",
       "      <td>1.000000</td>\n",
       "    </tr>\n",
       "    <tr>\n",
       "      <th>3</th>\n",
       "      <td>2.828427</td>\n",
       "      <td>3.000000</td>\n",
       "      <td>1.000000</td>\n",
       "      <td>2.000000</td>\n",
       "    </tr>\n",
       "    <tr>\n",
       "      <th>4</th>\n",
       "      <td>3.605551</td>\n",
       "      <td>2.449490</td>\n",
       "      <td>4.123106</td>\n",
       "      <td>4.000000</td>\n",
       "    </tr>\n",
       "  </tbody>\n",
       "</table>\n",
       "</div>"
      ],
      "text/plain": [
       "          A         B         C         D\n",
       "0  3.464102  2.000000  4.000000  2.449490\n",
       "1  2.236068  3.605551  3.872983  3.464102\n",
       "2  2.449490  2.449490  1.414214  1.000000\n",
       "3  2.828427  3.000000  1.000000  2.000000\n",
       "4  3.605551  2.449490  4.123106  4.000000"
      ]
     },
     "execution_count": 112,
     "metadata": {},
     "output_type": "execute_result"
    }
   ],
   "source": [
    "sqrDF=np.sqrt(miDF)\n",
    "sqrDF"
   ]
  },
  {
   "cell_type": "markdown",
   "id": "a494f34b",
   "metadata": {},
   "source": [
    "Podemos además aplicar funciones compuestas a diferentes Datasets. Por ejemplo crearemos dos datasets con índices que no coincidan"
   ]
  },
  {
   "cell_type": "code",
   "execution_count": 118,
   "id": "f73925ce",
   "metadata": {},
   "outputs": [
    {
     "name": "stdout",
     "output_type": "stream",
     "text": [
      "0    2\n",
      "1    4\n",
      "2    6\n",
      "dtype: int64\n",
      "1    1\n",
      "2    3\n",
      "3    5\n",
      "dtype: int64\n"
     ]
    }
   ],
   "source": [
    "A = pd.Series([2, 4, 6], index=[0, 1, 2])\n",
    "B = pd.Series([1, 3, 5], index=[1, 2, 3])\n",
    "print(A)\n",
    "print(B)"
   ]
  },
  {
   "cell_type": "markdown",
   "id": "f804ab3f",
   "metadata": {},
   "source": [
    "Ahora apliquemos una función compuesta como hicimos con NumPY"
   ]
  },
  {
   "cell_type": "code",
   "execution_count": 119,
   "id": "2183e2c6",
   "metadata": {},
   "outputs": [
    {
     "data": {
      "text/plain": [
       "0    NaN\n",
       "1    5.0\n",
       "2    9.0\n",
       "3    NaN\n",
       "dtype: float64"
      ]
     },
     "execution_count": 119,
     "metadata": {},
     "output_type": "execute_result"
    }
   ],
   "source": [
    "addDS=A+B\n",
    "addDS"
   ]
  },
  {
   "cell_type": "markdown",
   "id": "16305705",
   "metadata": {},
   "source": [
    "Podemos indicar que en caso de no existir un valor por default realice la operación con determinado valor; por ejemplo con 0. "
   ]
  },
  {
   "cell_type": "code",
   "execution_count": 120,
   "id": "77c862d6",
   "metadata": {},
   "outputs": [
    {
     "data": {
      "text/plain": [
       "0    2.0\n",
       "1    5.0\n",
       "2    9.0\n",
       "3    5.0\n",
       "dtype: float64"
      ]
     },
     "execution_count": 120,
     "metadata": {},
     "output_type": "execute_result"
    }
   ],
   "source": [
    "addDS=A.add(B,fill_value=0)\n",
    "addDS"
   ]
  },
  {
   "cell_type": "markdown",
   "id": "67611b30",
   "metadata": {},
   "source": [
    "Una de las grandes ventajas de los Dataframes con respecto a las matrices con Numpy es el manejo de los índices. Vamos a crear dos datasets con columnas A,B y valores aleatorios de 5 filas y luego haremos un nuevo dataset con valores B,C,A con 5 filas"
   ]
  },
  {
   "cell_type": "code",
   "execution_count": 121,
   "id": "620a60c3",
   "metadata": {},
   "outputs": [
    {
     "data": {
      "text/html": [
       "<div>\n",
       "<style scoped>\n",
       "    .dataframe tbody tr th:only-of-type {\n",
       "        vertical-align: middle;\n",
       "    }\n",
       "\n",
       "    .dataframe tbody tr th {\n",
       "        vertical-align: top;\n",
       "    }\n",
       "\n",
       "    .dataframe thead th {\n",
       "        text-align: right;\n",
       "    }\n",
       "</style>\n",
       "<table border=\"1\" class=\"dataframe\">\n",
       "  <thead>\n",
       "    <tr style=\"text-align: right;\">\n",
       "      <th></th>\n",
       "      <th>A</th>\n",
       "      <th>B</th>\n",
       "    </tr>\n",
       "  </thead>\n",
       "  <tbody>\n",
       "    <tr>\n",
       "      <th>0</th>\n",
       "      <td>12</td>\n",
       "      <td>13</td>\n",
       "    </tr>\n",
       "    <tr>\n",
       "      <th>1</th>\n",
       "      <td>17</td>\n",
       "      <td>2</td>\n",
       "    </tr>\n",
       "    <tr>\n",
       "      <th>2</th>\n",
       "      <td>9</td>\n",
       "      <td>4</td>\n",
       "    </tr>\n",
       "    <tr>\n",
       "      <th>3</th>\n",
       "      <td>2</td>\n",
       "      <td>15</td>\n",
       "    </tr>\n",
       "    <tr>\n",
       "      <th>4</th>\n",
       "      <td>7</td>\n",
       "      <td>2</td>\n",
       "    </tr>\n",
       "  </tbody>\n",
       "</table>\n",
       "</div>"
      ],
      "text/plain": [
       "    A   B\n",
       "0  12  13\n",
       "1  17   2\n",
       "2   9   4\n",
       "3   2  15\n",
       "4   7   2"
      ]
     },
     "execution_count": 121,
     "metadata": {},
     "output_type": "execute_result"
    }
   ],
   "source": [
    "A=pd.DataFrame(np.random.randint(0,20,size=(5,2)),columns=['A','B'])\n",
    "A"
   ]
  },
  {
   "cell_type": "code",
   "execution_count": 122,
   "id": "c64a1b73",
   "metadata": {},
   "outputs": [
    {
     "data": {
      "text/html": [
       "<div>\n",
       "<style scoped>\n",
       "    .dataframe tbody tr th:only-of-type {\n",
       "        vertical-align: middle;\n",
       "    }\n",
       "\n",
       "    .dataframe tbody tr th {\n",
       "        vertical-align: top;\n",
       "    }\n",
       "\n",
       "    .dataframe thead th {\n",
       "        text-align: right;\n",
       "    }\n",
       "</style>\n",
       "<table border=\"1\" class=\"dataframe\">\n",
       "  <thead>\n",
       "    <tr style=\"text-align: right;\">\n",
       "      <th></th>\n",
       "      <th>B</th>\n",
       "      <th>C</th>\n",
       "      <th>A</th>\n",
       "    </tr>\n",
       "  </thead>\n",
       "  <tbody>\n",
       "    <tr>\n",
       "      <th>0</th>\n",
       "      <td>10</td>\n",
       "      <td>13</td>\n",
       "      <td>5</td>\n",
       "    </tr>\n",
       "    <tr>\n",
       "      <th>1</th>\n",
       "      <td>13</td>\n",
       "      <td>5</td>\n",
       "      <td>5</td>\n",
       "    </tr>\n",
       "    <tr>\n",
       "      <th>2</th>\n",
       "      <td>15</td>\n",
       "      <td>1</td>\n",
       "      <td>7</td>\n",
       "    </tr>\n",
       "    <tr>\n",
       "      <th>3</th>\n",
       "      <td>16</td>\n",
       "      <td>17</td>\n",
       "      <td>16</td>\n",
       "    </tr>\n",
       "    <tr>\n",
       "      <th>4</th>\n",
       "      <td>13</td>\n",
       "      <td>14</td>\n",
       "      <td>5</td>\n",
       "    </tr>\n",
       "    <tr>\n",
       "      <th>5</th>\n",
       "      <td>7</td>\n",
       "      <td>5</td>\n",
       "      <td>3</td>\n",
       "    </tr>\n",
       "    <tr>\n",
       "      <th>6</th>\n",
       "      <td>13</td>\n",
       "      <td>8</td>\n",
       "      <td>2</td>\n",
       "    </tr>\n",
       "  </tbody>\n",
       "</table>\n",
       "</div>"
      ],
      "text/plain": [
       "    B   C   A\n",
       "0  10  13   5\n",
       "1  13   5   5\n",
       "2  15   1   7\n",
       "3  16  17  16\n",
       "4  13  14   5\n",
       "5   7   5   3\n",
       "6  13   8   2"
      ]
     },
     "execution_count": 122,
     "metadata": {},
     "output_type": "execute_result"
    }
   ],
   "source": [
    "B=pd.DataFrame(np.random.randint(0,20,size=(7,3)),columns=list('BCA'))\n",
    "B"
   ]
  },
  {
   "cell_type": "markdown",
   "id": "60bf0d2b",
   "metadata": {},
   "source": [
    "Ahora hagamos la suma de estos elementos"
   ]
  },
  {
   "cell_type": "code",
   "execution_count": 123,
   "id": "4003e24a",
   "metadata": {},
   "outputs": [
    {
     "data": {
      "text/html": [
       "<div>\n",
       "<style scoped>\n",
       "    .dataframe tbody tr th:only-of-type {\n",
       "        vertical-align: middle;\n",
       "    }\n",
       "\n",
       "    .dataframe tbody tr th {\n",
       "        vertical-align: top;\n",
       "    }\n",
       "\n",
       "    .dataframe thead th {\n",
       "        text-align: right;\n",
       "    }\n",
       "</style>\n",
       "<table border=\"1\" class=\"dataframe\">\n",
       "  <thead>\n",
       "    <tr style=\"text-align: right;\">\n",
       "      <th></th>\n",
       "      <th>A</th>\n",
       "      <th>B</th>\n",
       "      <th>C</th>\n",
       "    </tr>\n",
       "  </thead>\n",
       "  <tbody>\n",
       "    <tr>\n",
       "      <th>0</th>\n",
       "      <td>17.0</td>\n",
       "      <td>23.0</td>\n",
       "      <td>NaN</td>\n",
       "    </tr>\n",
       "    <tr>\n",
       "      <th>1</th>\n",
       "      <td>22.0</td>\n",
       "      <td>15.0</td>\n",
       "      <td>NaN</td>\n",
       "    </tr>\n",
       "    <tr>\n",
       "      <th>2</th>\n",
       "      <td>16.0</td>\n",
       "      <td>19.0</td>\n",
       "      <td>NaN</td>\n",
       "    </tr>\n",
       "    <tr>\n",
       "      <th>3</th>\n",
       "      <td>18.0</td>\n",
       "      <td>31.0</td>\n",
       "      <td>NaN</td>\n",
       "    </tr>\n",
       "    <tr>\n",
       "      <th>4</th>\n",
       "      <td>12.0</td>\n",
       "      <td>15.0</td>\n",
       "      <td>NaN</td>\n",
       "    </tr>\n",
       "    <tr>\n",
       "      <th>5</th>\n",
       "      <td>NaN</td>\n",
       "      <td>NaN</td>\n",
       "      <td>NaN</td>\n",
       "    </tr>\n",
       "    <tr>\n",
       "      <th>6</th>\n",
       "      <td>NaN</td>\n",
       "      <td>NaN</td>\n",
       "      <td>NaN</td>\n",
       "    </tr>\n",
       "  </tbody>\n",
       "</table>\n",
       "</div>"
      ],
      "text/plain": [
       "      A     B   C\n",
       "0  17.0  23.0 NaN\n",
       "1  22.0  15.0 NaN\n",
       "2  16.0  19.0 NaN\n",
       "3  18.0  31.0 NaN\n",
       "4  12.0  15.0 NaN\n",
       "5   NaN   NaN NaN\n",
       "6   NaN   NaN NaN"
      ]
     },
     "execution_count": 123,
     "metadata": {},
     "output_type": "execute_result"
    }
   ],
   "source": [
    "A+B"
   ]
  },
  {
   "cell_type": "markdown",
   "id": "c798b6d5",
   "metadata": {},
   "source": [
    "Como le hacemos para que no quede el valor en NaN"
   ]
  },
  {
   "cell_type": "code",
   "execution_count": 124,
   "id": "c72ee3c8",
   "metadata": {},
   "outputs": [
    {
     "data": {
      "text/html": [
       "<div>\n",
       "<style scoped>\n",
       "    .dataframe tbody tr th:only-of-type {\n",
       "        vertical-align: middle;\n",
       "    }\n",
       "\n",
       "    .dataframe tbody tr th {\n",
       "        vertical-align: top;\n",
       "    }\n",
       "\n",
       "    .dataframe thead th {\n",
       "        text-align: right;\n",
       "    }\n",
       "</style>\n",
       "<table border=\"1\" class=\"dataframe\">\n",
       "  <thead>\n",
       "    <tr style=\"text-align: right;\">\n",
       "      <th></th>\n",
       "      <th>A</th>\n",
       "      <th>B</th>\n",
       "      <th>C</th>\n",
       "    </tr>\n",
       "  </thead>\n",
       "  <tbody>\n",
       "    <tr>\n",
       "      <th>0</th>\n",
       "      <td>17.0</td>\n",
       "      <td>23.0</td>\n",
       "      <td>13.0</td>\n",
       "    </tr>\n",
       "    <tr>\n",
       "      <th>1</th>\n",
       "      <td>22.0</td>\n",
       "      <td>15.0</td>\n",
       "      <td>5.0</td>\n",
       "    </tr>\n",
       "    <tr>\n",
       "      <th>2</th>\n",
       "      <td>16.0</td>\n",
       "      <td>19.0</td>\n",
       "      <td>1.0</td>\n",
       "    </tr>\n",
       "    <tr>\n",
       "      <th>3</th>\n",
       "      <td>18.0</td>\n",
       "      <td>31.0</td>\n",
       "      <td>17.0</td>\n",
       "    </tr>\n",
       "    <tr>\n",
       "      <th>4</th>\n",
       "      <td>12.0</td>\n",
       "      <td>15.0</td>\n",
       "      <td>14.0</td>\n",
       "    </tr>\n",
       "    <tr>\n",
       "      <th>5</th>\n",
       "      <td>3.0</td>\n",
       "      <td>7.0</td>\n",
       "      <td>5.0</td>\n",
       "    </tr>\n",
       "    <tr>\n",
       "      <th>6</th>\n",
       "      <td>2.0</td>\n",
       "      <td>13.0</td>\n",
       "      <td>8.0</td>\n",
       "    </tr>\n",
       "  </tbody>\n",
       "</table>\n",
       "</div>"
      ],
      "text/plain": [
       "      A     B     C\n",
       "0  17.0  23.0  13.0\n",
       "1  22.0  15.0   5.0\n",
       "2  16.0  19.0   1.0\n",
       "3  18.0  31.0  17.0\n",
       "4  12.0  15.0  14.0\n",
       "5   3.0   7.0   5.0\n",
       "6   2.0  13.0   8.0"
      ]
     },
     "execution_count": 124,
     "metadata": {},
     "output_type": "execute_result"
    }
   ],
   "source": [
    "C=A.add(B,fill_value=0)\n",
    "C"
   ]
  },
  {
   "cell_type": "markdown",
   "id": "bb60eb54",
   "metadata": {},
   "source": [
    "Supongamos que tenemos un arreglo con índices no necesariamente establecidos en orden secuencial"
   ]
  },
  {
   "cell_type": "code",
   "execution_count": 125,
   "id": "7a6fe4d7",
   "metadata": {},
   "outputs": [
    {
     "data": {
      "text/plain": [
       "1    a\n",
       "3    b\n",
       "5    c\n",
       "2    d\n",
       "8    e\n",
       "dtype: object"
      ]
     },
     "execution_count": 125,
     "metadata": {},
     "output_type": "execute_result"
    }
   ],
   "source": [
    "datos = pd.Series(['a', 'b', 'c','d','e'], index=[1, 3, 5,2,8])\n",
    "datos\n",
    "\n"
   ]
  },
  {
   "cell_type": "code",
   "execution_count": 127,
   "id": "58af07e6",
   "metadata": {},
   "outputs": [
    {
     "data": {
      "text/plain": [
       "'a'"
      ]
     },
     "execution_count": 127,
     "metadata": {},
     "output_type": "execute_result"
    }
   ],
   "source": [
    "datos[1]"
   ]
  },
  {
   "cell_type": "markdown",
   "id": "dc046650",
   "metadata": {},
   "source": [
    "La función iloc utiliza el indexado lógico (el que utiliza de forma implícita python)"
   ]
  },
  {
   "cell_type": "code",
   "execution_count": 129,
   "id": "6eab7b9a",
   "metadata": {},
   "outputs": [
    {
     "data": {
      "text/plain": [
       "'b'"
      ]
     },
     "execution_count": 129,
     "metadata": {},
     "output_type": "execute_result"
    }
   ],
   "source": [
    "datos.iloc[1]"
   ]
  },
  {
   "cell_type": "markdown",
   "id": "fbffaafd",
   "metadata": {},
   "source": [
    "La función loc utiliza el indexado explícito (el que utiliza de forma explícita el dataframe)"
   ]
  },
  {
   "cell_type": "code",
   "execution_count": 130,
   "id": "55a61891",
   "metadata": {},
   "outputs": [
    {
     "data": {
      "text/plain": [
       "'a'"
      ]
     },
     "execution_count": 130,
     "metadata": {},
     "output_type": "execute_result"
    }
   ],
   "source": [
    "datos.loc[1]"
   ]
  },
  {
   "cell_type": "markdown",
   "id": "04cf304c",
   "metadata": {},
   "source": [
    "Así por ejemplo la siguiente instrucción nos marcaría error con iloc; sin embargo, con loc es válida"
   ]
  },
  {
   "cell_type": "code",
   "execution_count": 131,
   "id": "aefc526a",
   "metadata": {},
   "outputs": [
    {
     "data": {
      "text/plain": [
       "'e'"
      ]
     },
     "execution_count": 131,
     "metadata": {},
     "output_type": "execute_result"
    }
   ],
   "source": [
    "datos.loc[8]"
   ]
  },
  {
   "cell_type": "code",
   "execution_count": 132,
   "id": "275e4727",
   "metadata": {},
   "outputs": [
    {
     "ename": "IndexError",
     "evalue": "single positional indexer is out-of-bounds",
     "output_type": "error",
     "traceback": [
      "\u001b[0;31m---------------------------------------------------------------------------\u001b[0m",
      "\u001b[0;31mIndexError\u001b[0m                                Traceback (most recent call last)",
      "\u001b[0;32m/var/folders/y9/rk8lvns97q5fghbt6sxcgmlh0000gn/T/ipykernel_45506/3017316054.py\u001b[0m in \u001b[0;36m<module>\u001b[0;34m\u001b[0m\n\u001b[0;32m----> 1\u001b[0;31m \u001b[0mdatos\u001b[0m\u001b[0;34m.\u001b[0m\u001b[0miloc\u001b[0m\u001b[0;34m[\u001b[0m\u001b[0;36m8\u001b[0m\u001b[0;34m]\u001b[0m\u001b[0;34m\u001b[0m\u001b[0;34m\u001b[0m\u001b[0m\n\u001b[0m",
      "\u001b[0;32m~/opt/anaconda3/lib/python3.8/site-packages/pandas/core/indexing.py\u001b[0m in \u001b[0;36m__getitem__\u001b[0;34m(self, key)\u001b[0m\n\u001b[1;32m    929\u001b[0m \u001b[0;34m\u001b[0m\u001b[0m\n\u001b[1;32m    930\u001b[0m             \u001b[0mmaybe_callable\u001b[0m \u001b[0;34m=\u001b[0m \u001b[0mcom\u001b[0m\u001b[0;34m.\u001b[0m\u001b[0mapply_if_callable\u001b[0m\u001b[0;34m(\u001b[0m\u001b[0mkey\u001b[0m\u001b[0;34m,\u001b[0m \u001b[0mself\u001b[0m\u001b[0;34m.\u001b[0m\u001b[0mobj\u001b[0m\u001b[0;34m)\u001b[0m\u001b[0;34m\u001b[0m\u001b[0;34m\u001b[0m\u001b[0m\n\u001b[0;32m--> 931\u001b[0;31m             \u001b[0;32mreturn\u001b[0m \u001b[0mself\u001b[0m\u001b[0;34m.\u001b[0m\u001b[0m_getitem_axis\u001b[0m\u001b[0;34m(\u001b[0m\u001b[0mmaybe_callable\u001b[0m\u001b[0;34m,\u001b[0m \u001b[0maxis\u001b[0m\u001b[0;34m=\u001b[0m\u001b[0maxis\u001b[0m\u001b[0;34m)\u001b[0m\u001b[0;34m\u001b[0m\u001b[0;34m\u001b[0m\u001b[0m\n\u001b[0m\u001b[1;32m    932\u001b[0m \u001b[0;34m\u001b[0m\u001b[0m\n\u001b[1;32m    933\u001b[0m     \u001b[0;32mdef\u001b[0m \u001b[0m_is_scalar_access\u001b[0m\u001b[0;34m(\u001b[0m\u001b[0mself\u001b[0m\u001b[0;34m,\u001b[0m \u001b[0mkey\u001b[0m\u001b[0;34m:\u001b[0m \u001b[0mtuple\u001b[0m\u001b[0;34m)\u001b[0m\u001b[0;34m:\u001b[0m\u001b[0;34m\u001b[0m\u001b[0;34m\u001b[0m\u001b[0m\n",
      "\u001b[0;32m~/opt/anaconda3/lib/python3.8/site-packages/pandas/core/indexing.py\u001b[0m in \u001b[0;36m_getitem_axis\u001b[0;34m(self, key, axis)\u001b[0m\n\u001b[1;32m   1564\u001b[0m \u001b[0;34m\u001b[0m\u001b[0m\n\u001b[1;32m   1565\u001b[0m             \u001b[0;31m# validate the location\u001b[0m\u001b[0;34m\u001b[0m\u001b[0;34m\u001b[0m\u001b[0;34m\u001b[0m\u001b[0m\n\u001b[0;32m-> 1566\u001b[0;31m             \u001b[0mself\u001b[0m\u001b[0;34m.\u001b[0m\u001b[0m_validate_integer\u001b[0m\u001b[0;34m(\u001b[0m\u001b[0mkey\u001b[0m\u001b[0;34m,\u001b[0m \u001b[0maxis\u001b[0m\u001b[0;34m)\u001b[0m\u001b[0;34m\u001b[0m\u001b[0;34m\u001b[0m\u001b[0m\n\u001b[0m\u001b[1;32m   1567\u001b[0m \u001b[0;34m\u001b[0m\u001b[0m\n\u001b[1;32m   1568\u001b[0m             \u001b[0;32mreturn\u001b[0m \u001b[0mself\u001b[0m\u001b[0;34m.\u001b[0m\u001b[0mobj\u001b[0m\u001b[0;34m.\u001b[0m\u001b[0m_ixs\u001b[0m\u001b[0;34m(\u001b[0m\u001b[0mkey\u001b[0m\u001b[0;34m,\u001b[0m \u001b[0maxis\u001b[0m\u001b[0;34m=\u001b[0m\u001b[0maxis\u001b[0m\u001b[0;34m)\u001b[0m\u001b[0;34m\u001b[0m\u001b[0;34m\u001b[0m\u001b[0m\n",
      "\u001b[0;32m~/opt/anaconda3/lib/python3.8/site-packages/pandas/core/indexing.py\u001b[0m in \u001b[0;36m_validate_integer\u001b[0;34m(self, key, axis)\u001b[0m\n\u001b[1;32m   1498\u001b[0m         \u001b[0mlen_axis\u001b[0m \u001b[0;34m=\u001b[0m \u001b[0mlen\u001b[0m\u001b[0;34m(\u001b[0m\u001b[0mself\u001b[0m\u001b[0;34m.\u001b[0m\u001b[0mobj\u001b[0m\u001b[0;34m.\u001b[0m\u001b[0m_get_axis\u001b[0m\u001b[0;34m(\u001b[0m\u001b[0maxis\u001b[0m\u001b[0;34m)\u001b[0m\u001b[0;34m)\u001b[0m\u001b[0;34m\u001b[0m\u001b[0;34m\u001b[0m\u001b[0m\n\u001b[1;32m   1499\u001b[0m         \u001b[0;32mif\u001b[0m \u001b[0mkey\u001b[0m \u001b[0;34m>=\u001b[0m \u001b[0mlen_axis\u001b[0m \u001b[0;32mor\u001b[0m \u001b[0mkey\u001b[0m \u001b[0;34m<\u001b[0m \u001b[0;34m-\u001b[0m\u001b[0mlen_axis\u001b[0m\u001b[0;34m:\u001b[0m\u001b[0;34m\u001b[0m\u001b[0;34m\u001b[0m\u001b[0m\n\u001b[0;32m-> 1500\u001b[0;31m             \u001b[0;32mraise\u001b[0m \u001b[0mIndexError\u001b[0m\u001b[0;34m(\u001b[0m\u001b[0;34m\"single positional indexer is out-of-bounds\"\u001b[0m\u001b[0;34m)\u001b[0m\u001b[0;34m\u001b[0m\u001b[0;34m\u001b[0m\u001b[0m\n\u001b[0m\u001b[1;32m   1501\u001b[0m \u001b[0;34m\u001b[0m\u001b[0m\n\u001b[1;32m   1502\u001b[0m     \u001b[0;31m# -------------------------------------------------------------------\u001b[0m\u001b[0;34m\u001b[0m\u001b[0;34m\u001b[0m\u001b[0;34m\u001b[0m\u001b[0m\n",
      "\u001b[0;31mIndexError\u001b[0m: single positional indexer is out-of-bounds"
     ]
    }
   ],
   "source": [
    "datos.iloc[8]"
   ]
  },
  {
   "cell_type": "code",
   "execution_count": 133,
   "id": "a9cb5fb8",
   "metadata": {},
   "outputs": [
    {
     "data": {
      "text/plain": [
       "1    a\n",
       "3    b\n",
       "5    c\n",
       "2    d\n",
       "8    e\n",
       "dtype: object"
      ]
     },
     "execution_count": 133,
     "metadata": {},
     "output_type": "execute_result"
    }
   ],
   "source": [
    "datos.loc[1:8]"
   ]
  },
  {
   "cell_type": "code",
   "execution_count": 134,
   "id": "1136a3bc",
   "metadata": {},
   "outputs": [
    {
     "data": {
      "text/plain": [
       "3    b\n",
       "5    c\n",
       "2    d\n",
       "dtype: object"
      ]
     },
     "execution_count": 134,
     "metadata": {},
     "output_type": "execute_result"
    }
   ],
   "source": [
    "datos.iloc[1:4]"
   ]
  },
  {
   "cell_type": "markdown",
   "id": "5f272a89",
   "metadata": {},
   "source": [
    "Veamos como utilizar estas instrucciones con los dataframes"
   ]
  },
  {
   "cell_type": "markdown",
   "id": "73f43e20",
   "metadata": {},
   "source": [
    "Veamos ahora un ejemplo real"
   ]
  },
  {
   "cell_type": "code",
   "execution_count": 136,
   "id": "23870cf3",
   "metadata": {},
   "outputs": [
    {
     "data": {
      "text/html": [
       "<div>\n",
       "<style scoped>\n",
       "    .dataframe tbody tr th:only-of-type {\n",
       "        vertical-align: middle;\n",
       "    }\n",
       "\n",
       "    .dataframe tbody tr th {\n",
       "        vertical-align: top;\n",
       "    }\n",
       "\n",
       "    .dataframe thead th {\n",
       "        text-align: right;\n",
       "    }\n",
       "</style>\n",
       "<table border=\"1\" class=\"dataframe\">\n",
       "  <thead>\n",
       "    <tr style=\"text-align: right;\">\n",
       "      <th></th>\n",
       "      <th>area</th>\n",
       "      <th>poblacion</th>\n",
       "    </tr>\n",
       "  </thead>\n",
       "  <tbody>\n",
       "    <tr>\n",
       "      <th>Torreon</th>\n",
       "      <td>42396</td>\n",
       "      <td>3833252</td>\n",
       "    </tr>\n",
       "    <tr>\n",
       "      <th>Monclova</th>\n",
       "      <td>69566</td>\n",
       "      <td>2644819</td>\n",
       "    </tr>\n",
       "    <tr>\n",
       "      <th>Saltillo</th>\n",
       "      <td>14129</td>\n",
       "      <td>1965112</td>\n",
       "    </tr>\n",
       "    <tr>\n",
       "      <th>Zaragoza</th>\n",
       "      <td>17031</td>\n",
       "      <td>1955286</td>\n",
       "    </tr>\n",
       "    <tr>\n",
       "      <th>Arteaga</th>\n",
       "      <td>14999</td>\n",
       "      <td>1288213</td>\n",
       "    </tr>\n",
       "  </tbody>\n",
       "</table>\n",
       "</div>"
      ],
      "text/plain": [
       "           area  poblacion\n",
       "Torreon   42396    3833252\n",
       "Monclova  69566    2644819\n",
       "Saltillo  14129    1965112\n",
       "Zaragoza  17031    1955286\n",
       "Arteaga   14999    1288213"
      ]
     },
     "execution_count": 136,
     "metadata": {},
     "output_type": "execute_result"
    }
   ],
   "source": [
    "area = pd.Series({'Torreon': 42396, 'Monclova': 69566,\n",
    "                  'Saltillo': 14129, 'Zaragoza': 17031,\n",
    "                  'Arteaga': 14999})\n",
    "poblacion = pd.Series({'Torreon': 3833252, 'Monclova': 2644819,\n",
    "                 'Saltillo': 1965112, 'Zaragoza': 1955286,\n",
    "                 'Arteaga': 1288213})\n",
    "data = pd.DataFrame({'area':area, 'poblacion':poblacion})\n",
    "data"
   ]
  },
  {
   "cell_type": "code",
   "execution_count": 137,
   "id": "0ff51f4a",
   "metadata": {},
   "outputs": [
    {
     "data": {
      "text/plain": [
       "Torreon     42396\n",
       "Monclova    69566\n",
       "Saltillo    14129\n",
       "Zaragoza    17031\n",
       "Arteaga     14999\n",
       "Name: area, dtype: int64"
      ]
     },
     "execution_count": 137,
     "metadata": {},
     "output_type": "execute_result"
    }
   ],
   "source": [
    "data['area']"
   ]
  },
  {
   "cell_type": "code",
   "execution_count": 138,
   "id": "a9b35b72",
   "metadata": {},
   "outputs": [
    {
     "data": {
      "text/plain": [
       "Torreon     3833252\n",
       "Monclova    2644819\n",
       "Saltillo    1965112\n",
       "Zaragoza    1955286\n",
       "Arteaga     1288213\n",
       "Name: poblacion, dtype: int64"
      ]
     },
     "execution_count": 138,
     "metadata": {},
     "output_type": "execute_result"
    }
   ],
   "source": [
    "data['poblacion']"
   ]
  },
  {
   "cell_type": "code",
   "execution_count": 139,
   "id": "30800015",
   "metadata": {},
   "outputs": [
    {
     "data": {
      "text/plain": [
       "Torreon     42396\n",
       "Monclova    69566\n",
       "Saltillo    14129\n",
       "Zaragoza    17031\n",
       "Arteaga     14999\n",
       "Name: area, dtype: int64"
      ]
     },
     "execution_count": 139,
     "metadata": {},
     "output_type": "execute_result"
    }
   ],
   "source": [
    "data.area"
   ]
  },
  {
   "cell_type": "code",
   "execution_count": 140,
   "id": "406196e3",
   "metadata": {},
   "outputs": [
    {
     "data": {
      "text/plain": [
       "Torreon     3833252\n",
       "Monclova    2644819\n",
       "Saltillo    1965112\n",
       "Zaragoza    1955286\n",
       "Arteaga     1288213\n",
       "Name: poblacion, dtype: int64"
      ]
     },
     "execution_count": 140,
     "metadata": {},
     "output_type": "execute_result"
    }
   ],
   "source": [
    "data.poblacion"
   ]
  },
  {
   "cell_type": "code",
   "execution_count": 141,
   "id": "218c9786",
   "metadata": {},
   "outputs": [
    {
     "data": {
      "text/html": [
       "<div>\n",
       "<style scoped>\n",
       "    .dataframe tbody tr th:only-of-type {\n",
       "        vertical-align: middle;\n",
       "    }\n",
       "\n",
       "    .dataframe tbody tr th {\n",
       "        vertical-align: top;\n",
       "    }\n",
       "\n",
       "    .dataframe thead th {\n",
       "        text-align: right;\n",
       "    }\n",
       "</style>\n",
       "<table border=\"1\" class=\"dataframe\">\n",
       "  <thead>\n",
       "    <tr style=\"text-align: right;\">\n",
       "      <th></th>\n",
       "      <th>area</th>\n",
       "      <th>poblacion</th>\n",
       "      <th>densidad</th>\n",
       "    </tr>\n",
       "  </thead>\n",
       "  <tbody>\n",
       "    <tr>\n",
       "      <th>Torreon</th>\n",
       "      <td>42396</td>\n",
       "      <td>3833252</td>\n",
       "      <td>90.415417</td>\n",
       "    </tr>\n",
       "    <tr>\n",
       "      <th>Monclova</th>\n",
       "      <td>69566</td>\n",
       "      <td>2644819</td>\n",
       "      <td>38.018845</td>\n",
       "    </tr>\n",
       "    <tr>\n",
       "      <th>Saltillo</th>\n",
       "      <td>14129</td>\n",
       "      <td>1965112</td>\n",
       "      <td>139.083587</td>\n",
       "    </tr>\n",
       "    <tr>\n",
       "      <th>Zaragoza</th>\n",
       "      <td>17031</td>\n",
       "      <td>1955286</td>\n",
       "      <td>114.807469</td>\n",
       "    </tr>\n",
       "    <tr>\n",
       "      <th>Arteaga</th>\n",
       "      <td>14999</td>\n",
       "      <td>1288213</td>\n",
       "      <td>85.886592</td>\n",
       "    </tr>\n",
       "  </tbody>\n",
       "</table>\n",
       "</div>"
      ],
      "text/plain": [
       "           area  poblacion    densidad\n",
       "Torreon   42396    3833252   90.415417\n",
       "Monclova  69566    2644819   38.018845\n",
       "Saltillo  14129    1965112  139.083587\n",
       "Zaragoza  17031    1955286  114.807469\n",
       "Arteaga   14999    1288213   85.886592"
      ]
     },
     "execution_count": 141,
     "metadata": {},
     "output_type": "execute_result"
    }
   ],
   "source": [
    "data['densidad']=data['poblacion']/data['area']\n",
    "data"
   ]
  },
  {
   "cell_type": "code",
   "execution_count": 142,
   "id": "0a22ec04",
   "metadata": {},
   "outputs": [
    {
     "data": {
      "text/plain": [
       "array([[4.23960000e+04, 3.83325200e+06, 9.04154165e+01],\n",
       "       [6.95660000e+04, 2.64481900e+06, 3.80188454e+01],\n",
       "       [1.41290000e+04, 1.96511200e+06, 1.39083587e+02],\n",
       "       [1.70310000e+04, 1.95528600e+06, 1.14807469e+02],\n",
       "       [1.49990000e+04, 1.28821300e+06, 8.58865924e+01]])"
      ]
     },
     "execution_count": 142,
     "metadata": {},
     "output_type": "execute_result"
    }
   ],
   "source": [
    "data.values"
   ]
  },
  {
   "cell_type": "code",
   "execution_count": 143,
   "id": "b47102d4",
   "metadata": {},
   "outputs": [
    {
     "data": {
      "text/plain": [
       "38.0188454129891"
      ]
     },
     "execution_count": 143,
     "metadata": {},
     "output_type": "execute_result"
    }
   ],
   "source": [
    "np.min(data.values)"
   ]
  },
  {
   "cell_type": "code",
   "execution_count": 144,
   "id": "47056dec",
   "metadata": {},
   "outputs": [
    {
     "data": {
      "text/plain": [
       "14129"
      ]
     },
     "execution_count": 144,
     "metadata": {},
     "output_type": "execute_result"
    }
   ],
   "source": [
    "np.min(data.area)"
   ]
  },
  {
   "cell_type": "code",
   "execution_count": 145,
   "id": "f30a12e3",
   "metadata": {},
   "outputs": [
    {
     "data": {
      "text/html": [
       "<div>\n",
       "<style scoped>\n",
       "    .dataframe tbody tr th:only-of-type {\n",
       "        vertical-align: middle;\n",
       "    }\n",
       "\n",
       "    .dataframe tbody tr th {\n",
       "        vertical-align: top;\n",
       "    }\n",
       "\n",
       "    .dataframe thead th {\n",
       "        text-align: right;\n",
       "    }\n",
       "</style>\n",
       "<table border=\"1\" class=\"dataframe\">\n",
       "  <thead>\n",
       "    <tr style=\"text-align: right;\">\n",
       "      <th></th>\n",
       "      <th>area</th>\n",
       "      <th>poblacion</th>\n",
       "      <th>densidad</th>\n",
       "    </tr>\n",
       "  </thead>\n",
       "  <tbody>\n",
       "    <tr>\n",
       "      <th>Torreon</th>\n",
       "      <td>42396</td>\n",
       "      <td>3833252</td>\n",
       "      <td>90.415417</td>\n",
       "    </tr>\n",
       "    <tr>\n",
       "      <th>Monclova</th>\n",
       "      <td>69566</td>\n",
       "      <td>2644819</td>\n",
       "      <td>38.018845</td>\n",
       "    </tr>\n",
       "    <tr>\n",
       "      <th>Saltillo</th>\n",
       "      <td>14129</td>\n",
       "      <td>1965112</td>\n",
       "      <td>139.083587</td>\n",
       "    </tr>\n",
       "    <tr>\n",
       "      <th>Zaragoza</th>\n",
       "      <td>17031</td>\n",
       "      <td>1955286</td>\n",
       "      <td>114.807469</td>\n",
       "    </tr>\n",
       "    <tr>\n",
       "      <th>Arteaga</th>\n",
       "      <td>14999</td>\n",
       "      <td>1288213</td>\n",
       "      <td>85.886592</td>\n",
       "    </tr>\n",
       "  </tbody>\n",
       "</table>\n",
       "</div>"
      ],
      "text/plain": [
       "           area  poblacion    densidad\n",
       "Torreon   42396    3833252   90.415417\n",
       "Monclova  69566    2644819   38.018845\n",
       "Saltillo  14129    1965112  139.083587\n",
       "Zaragoza  17031    1955286  114.807469\n",
       "Arteaga   14999    1288213   85.886592"
      ]
     },
     "execution_count": 145,
     "metadata": {},
     "output_type": "execute_result"
    }
   ],
   "source": [
    "data"
   ]
  },
  {
   "cell_type": "code",
   "execution_count": 146,
   "id": "427ff130",
   "metadata": {},
   "outputs": [
    {
     "data": {
      "text/html": [
       "<div>\n",
       "<style scoped>\n",
       "    .dataframe tbody tr th:only-of-type {\n",
       "        vertical-align: middle;\n",
       "    }\n",
       "\n",
       "    .dataframe tbody tr th {\n",
       "        vertical-align: top;\n",
       "    }\n",
       "\n",
       "    .dataframe thead th {\n",
       "        text-align: right;\n",
       "    }\n",
       "</style>\n",
       "<table border=\"1\" class=\"dataframe\">\n",
       "  <thead>\n",
       "    <tr style=\"text-align: right;\">\n",
       "      <th></th>\n",
       "      <th>area</th>\n",
       "      <th>poblacion</th>\n",
       "    </tr>\n",
       "  </thead>\n",
       "  <tbody>\n",
       "    <tr>\n",
       "      <th>Torreon</th>\n",
       "      <td>42396</td>\n",
       "      <td>3833252</td>\n",
       "    </tr>\n",
       "    <tr>\n",
       "      <th>Monclova</th>\n",
       "      <td>69566</td>\n",
       "      <td>2644819</td>\n",
       "    </tr>\n",
       "    <tr>\n",
       "      <th>Saltillo</th>\n",
       "      <td>14129</td>\n",
       "      <td>1965112</td>\n",
       "    </tr>\n",
       "  </tbody>\n",
       "</table>\n",
       "</div>"
      ],
      "text/plain": [
       "           area  poblacion\n",
       "Torreon   42396    3833252\n",
       "Monclova  69566    2644819\n",
       "Saltillo  14129    1965112"
      ]
     },
     "execution_count": 146,
     "metadata": {},
     "output_type": "execute_result"
    }
   ],
   "source": [
    "data.iloc[:3,:2]"
   ]
  },
  {
   "cell_type": "code",
   "execution_count": 147,
   "id": "cd96df7b",
   "metadata": {},
   "outputs": [
    {
     "data": {
      "text/html": [
       "<div>\n",
       "<style scoped>\n",
       "    .dataframe tbody tr th:only-of-type {\n",
       "        vertical-align: middle;\n",
       "    }\n",
       "\n",
       "    .dataframe tbody tr th {\n",
       "        vertical-align: top;\n",
       "    }\n",
       "\n",
       "    .dataframe thead th {\n",
       "        text-align: right;\n",
       "    }\n",
       "</style>\n",
       "<table border=\"1\" class=\"dataframe\">\n",
       "  <thead>\n",
       "    <tr style=\"text-align: right;\">\n",
       "      <th></th>\n",
       "      <th>poblacion</th>\n",
       "      <th>densidad</th>\n",
       "    </tr>\n",
       "  </thead>\n",
       "  <tbody>\n",
       "    <tr>\n",
       "      <th>Torreon</th>\n",
       "      <td>3833252</td>\n",
       "      <td>90.415417</td>\n",
       "    </tr>\n",
       "    <tr>\n",
       "      <th>Monclova</th>\n",
       "      <td>2644819</td>\n",
       "      <td>38.018845</td>\n",
       "    </tr>\n",
       "    <tr>\n",
       "      <th>Saltillo</th>\n",
       "      <td>1965112</td>\n",
       "      <td>139.083587</td>\n",
       "    </tr>\n",
       "    <tr>\n",
       "      <th>Zaragoza</th>\n",
       "      <td>1955286</td>\n",
       "      <td>114.807469</td>\n",
       "    </tr>\n",
       "  </tbody>\n",
       "</table>\n",
       "</div>"
      ],
      "text/plain": [
       "          poblacion    densidad\n",
       "Torreon     3833252   90.415417\n",
       "Monclova    2644819   38.018845\n",
       "Saltillo    1965112  139.083587\n",
       "Zaragoza    1955286  114.807469"
      ]
     },
     "execution_count": 147,
     "metadata": {},
     "output_type": "execute_result"
    }
   ],
   "source": [
    "data.loc[:'Zaragoza','poblacion':]"
   ]
  },
  {
   "cell_type": "code",
   "execution_count": 148,
   "id": "518027ca",
   "metadata": {},
   "outputs": [
    {
     "data": {
      "text/html": [
       "<div>\n",
       "<style scoped>\n",
       "    .dataframe tbody tr th:only-of-type {\n",
       "        vertical-align: middle;\n",
       "    }\n",
       "\n",
       "    .dataframe tbody tr th {\n",
       "        vertical-align: top;\n",
       "    }\n",
       "\n",
       "    .dataframe thead th {\n",
       "        text-align: right;\n",
       "    }\n",
       "</style>\n",
       "<table border=\"1\" class=\"dataframe\">\n",
       "  <thead>\n",
       "    <tr style=\"text-align: right;\">\n",
       "      <th></th>\n",
       "      <th>area</th>\n",
       "      <th>poblacion</th>\n",
       "      <th>densidad</th>\n",
       "    </tr>\n",
       "  </thead>\n",
       "  <tbody>\n",
       "    <tr>\n",
       "      <th>Torreon</th>\n",
       "      <td>42396</td>\n",
       "      <td>3833252</td>\n",
       "      <td>90.415417</td>\n",
       "    </tr>\n",
       "    <tr>\n",
       "      <th>Monclova</th>\n",
       "      <td>69566</td>\n",
       "      <td>2644819</td>\n",
       "      <td>38.018845</td>\n",
       "    </tr>\n",
       "    <tr>\n",
       "      <th>Arteaga</th>\n",
       "      <td>14999</td>\n",
       "      <td>1288213</td>\n",
       "      <td>85.886592</td>\n",
       "    </tr>\n",
       "  </tbody>\n",
       "</table>\n",
       "</div>"
      ],
      "text/plain": [
       "           area  poblacion   densidad\n",
       "Torreon   42396    3833252  90.415417\n",
       "Monclova  69566    2644819  38.018845\n",
       "Arteaga   14999    1288213  85.886592"
      ]
     },
     "execution_count": 148,
     "metadata": {},
     "output_type": "execute_result"
    }
   ],
   "source": [
    "data.loc[data.densidad<100]"
   ]
  },
  {
   "cell_type": "code",
   "execution_count": null,
   "id": "4dfe61c5",
   "metadata": {},
   "outputs": [],
   "source": []
  }
 ],
 "metadata": {
  "kernelspec": {
   "display_name": "Python 3 (ipykernel)",
   "language": "python",
   "name": "python3"
  },
  "language_info": {
   "codemirror_mode": {
    "name": "ipython",
    "version": 3
   },
   "file_extension": ".py",
   "mimetype": "text/x-python",
   "name": "python",
   "nbconvert_exporter": "python",
   "pygments_lexer": "ipython3",
   "version": "3.8.12"
  }
 },
 "nbformat": 4,
 "nbformat_minor": 5
}
