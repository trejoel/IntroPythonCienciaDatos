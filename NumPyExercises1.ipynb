{
 "cells": [
  {
   "cell_type": "code",
   "execution_count": 4,
   "id": "610d797a",
   "metadata": {},
   "outputs": [
    {
     "name": "stdout",
     "output_type": "stream",
     "text": [
      "[12 15  0  3  3  7  9 19 18  4  6 12  1  6  7 14]\n"
     ]
    }
   ],
   "source": [
    "import numpy as np\n",
    "np.random.seed(0)\n",
    "\n",
    "Ax=np.random.randint(20,size=16)\n",
    "print(Ax)\n"
   ]
  },
  {
   "cell_type": "code",
   "execution_count": 6,
   "id": "deaf384f",
   "metadata": {},
   "outputs": [
    {
     "name": "stdout",
     "output_type": "stream",
     "text": [
      "[[12 15  0  3]\n",
      " [ 3  7  9 19]\n",
      " [18  4  6 12]\n",
      " [ 1  6  7 14]]\n"
     ]
    }
   ],
   "source": [
    "Mx=Ax.reshape(4,4)\n",
    "print(Mx)"
   ]
  },
  {
   "cell_type": "code",
   "execution_count": 10,
   "id": "7916de3f",
   "metadata": {},
   "outputs": [
    {
     "name": "stdout",
     "output_type": "stream",
     "text": [
      "[14  7  6]\n"
     ]
    }
   ],
   "source": [
    "Ay=Ax[:12:-1]\n",
    "print(Ay)"
   ]
  },
  {
   "cell_type": "code",
   "execution_count": 11,
   "id": "a98856ed",
   "metadata": {},
   "outputs": [
    {
     "name": "stdout",
     "output_type": "stream",
     "text": [
      "[14  7  6]\n"
     ]
    }
   ],
   "source": [
    "Ay=Ax[-1:12:-1]\n",
    "print(Ay)"
   ]
  },
  {
   "cell_type": "code",
   "execution_count": 14,
   "id": "56474aeb",
   "metadata": {},
   "outputs": [
    {
     "name": "stdout",
     "output_type": "stream",
     "text": [
      "[[7 9]\n",
      " [4 6]]\n"
     ]
    }
   ],
   "source": [
    "My=Mx[1:3:1,1:3:1]\n",
    "print(My)"
   ]
  },
  {
   "cell_type": "code",
   "execution_count": 22,
   "id": "233caba0",
   "metadata": {},
   "outputs": [
    {
     "name": "stdout",
     "output_type": "stream",
     "text": [
      "[4 5]\n",
      "[[ 6]\n",
      " [ 8]\n",
      " [17]]\n"
     ]
    }
   ],
   "source": [
    "V2=np.random.randint(20,size=2)\n",
    "V3=np.random.randint(20,size=3).reshape((3,1))\n",
    "print(V2)\n",
    "print(V3)"
   ]
  },
  {
   "cell_type": "code",
   "execution_count": 53,
   "id": "b1b4449e",
   "metadata": {},
   "outputs": [
    {
     "name": "stdout",
     "output_type": "stream",
     "text": [
      "[[7 9]\n",
      " [4 6]\n",
      " [7 9]\n",
      " [4 6]]\n"
     ]
    }
   ],
   "source": [
    "#Concatenar\n",
    "Mz=np.concatenate((My,My))\n",
    "print(Mz)"
   ]
  },
  {
   "cell_type": "code",
   "execution_count": 54,
   "id": "f4ad3396",
   "metadata": {},
   "outputs": [
    {
     "name": "stdout",
     "output_type": "stream",
     "text": [
      "[[7 9 7 9]\n",
      " [4 6 4 6]\n",
      " [7 9 7 9]\n",
      " [4 6 4 6]]\n"
     ]
    }
   ],
   "source": [
    "Mw=np.concatenate((Mz,Mz), axis=1)\n",
    "print(Mw)"
   ]
  },
  {
   "cell_type": "code",
   "execution_count": 55,
   "id": "e95ff0ea",
   "metadata": {},
   "outputs": [
    {
     "name": "stdout",
     "output_type": "stream",
     "text": [
      "[[7 9]\n",
      " [4 6]\n",
      " [7 9]\n",
      " [4 6]]\n"
     ]
    }
   ],
   "source": [
    "Mz=np.vstack((My,My))\n",
    "print(Mz)"
   ]
  },
  {
   "cell_type": "code",
   "execution_count": 56,
   "id": "467672d3",
   "metadata": {},
   "outputs": [
    {
     "name": "stdout",
     "output_type": "stream",
     "text": [
      "[[7 9 7 9]\n",
      " [4 6 4 6]\n",
      " [7 9 7 9]\n",
      " [4 6 4 6]]\n"
     ]
    }
   ],
   "source": [
    "Mw=np.hstack((Mz,Mz))\n",
    "print(Mw)"
   ]
  },
  {
   "cell_type": "code",
   "execution_count": 57,
   "id": "212242c2",
   "metadata": {},
   "outputs": [
    {
     "name": "stdout",
     "output_type": "stream",
     "text": [
      "[0 1 2 3 4 5 6 7 8 9]\n"
     ]
    }
   ],
   "source": [
    "#Ejercicio split\n",
    "miVector=np.arange(10)\n",
    "print(miVector)"
   ]
  },
  {
   "cell_type": "code",
   "execution_count": 67,
   "id": "7072e4c5",
   "metadata": {},
   "outputs": [
    {
     "name": "stdout",
     "output_type": "stream",
     "text": [
      "[0 1 2 3 4]\n",
      "[5 6 7]\n",
      "[8 9]\n"
     ]
    }
   ],
   "source": [
    "miVector1,miVector2,miVector3=np.split(miVector,[5,8])\n",
    "print(miVector1)\n",
    "print(miVector2)\n",
    "print(miVector3)"
   ]
  },
  {
   "cell_type": "code",
   "execution_count": null,
   "id": "b462caf3",
   "metadata": {},
   "outputs": [],
   "source": []
  },
  {
   "cell_type": "code",
   "execution_count": null,
   "id": "1c6485eb",
   "metadata": {},
   "outputs": [],
   "source": []
  }
 ],
 "metadata": {
  "kernelspec": {
   "display_name": "Python 3 (ipykernel)",
   "language": "python",
   "name": "python3"
  },
  "language_info": {
   "codemirror_mode": {
    "name": "ipython",
    "version": 3
   },
   "file_extension": ".py",
   "mimetype": "text/x-python",
   "name": "python",
   "nbconvert_exporter": "python",
   "pygments_lexer": "ipython3",
   "version": "3.8.12"
  }
 },
 "nbformat": 4,
 "nbformat_minor": 5
}
