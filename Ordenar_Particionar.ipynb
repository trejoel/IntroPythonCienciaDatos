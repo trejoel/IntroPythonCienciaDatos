{
 "cells": [
  {
   "cell_type": "code",
   "execution_count": 5,
   "id": "cc14f011",
   "metadata": {},
   "outputs": [
    {
     "name": "stdout",
     "output_type": "stream",
     "text": [
      "[1, 3, 4, 5, 8, 9]\n"
     ]
    }
   ],
   "source": [
    "import numpy as np\n",
    "\n",
    "\n",
    "def insertion_sort(A):\n",
    "    for j in range(1,len(A)):\n",
    "        key=A[j]\n",
    "        i=j-1\n",
    "        while i>=0 and A[i]>key:\n",
    "            A[i+1]=A[i]\n",
    "            i=i-1\n",
    "        A[i+1]=key\n",
    "    return A\n",
    "    \n",
    "B=insertion_sort([3,1,5,4,8,9])\n",
    "print(B)"
   ]
  },
  {
   "cell_type": "code",
   "execution_count": 6,
   "id": "a6947cae",
   "metadata": {},
   "outputs": [
    {
     "name": "stdout",
     "output_type": "stream",
     "text": [
      "[35 28 58 78 20 90 99  9 77 79]\n"
     ]
    }
   ],
   "source": [
    "VA=np.random.randint(1,100,size=10)\n",
    "print(VA)"
   ]
  },
  {
   "cell_type": "code",
   "execution_count": 7,
   "id": "6da4e4e7",
   "metadata": {},
   "outputs": [
    {
     "name": "stdout",
     "output_type": "stream",
     "text": [
      "[ 9 20 28 35 58 77 78 79 90 99]\n"
     ]
    }
   ],
   "source": [
    "VA_Sort=insertion_sort(VA)\n",
    "print(VA_Sort)"
   ]
  },
  {
   "cell_type": "code",
   "execution_count": 16,
   "id": "28d26042",
   "metadata": {},
   "outputs": [
    {
     "name": "stdout",
     "output_type": "stream",
     "text": [
      "[60 12 26 40  1 82 45  8 43 35]\n"
     ]
    }
   ],
   "source": [
    "VA=np.random.randint(1,100,size=10)\n",
    "print(VA)"
   ]
  },
  {
   "cell_type": "code",
   "execution_count": 17,
   "id": "c5ce29f9",
   "metadata": {},
   "outputs": [
    {
     "name": "stdout",
     "output_type": "stream",
     "text": [
      "[ 1  8 12 26 35 40 43 45 60 82]\n"
     ]
    }
   ],
   "source": [
    "VA.sort()\n",
    "print(VA)"
   ]
  },
  {
   "cell_type": "code",
   "execution_count": 19,
   "id": "324459d9",
   "metadata": {},
   "outputs": [
    {
     "name": "stdout",
     "output_type": "stream",
     "text": [
      "[5 3 2 4 6 1 7 9 8 0]\n"
     ]
    }
   ],
   "source": [
    "VA=np.random.randint(1,100,size=10)\n",
    "VASorted=np.argsort(VA)\n",
    "#Imprime los índices del arreglo ordenado\n",
    "print(VASorted)"
   ]
  },
  {
   "cell_type": "code",
   "execution_count": 21,
   "id": "4109b866",
   "metadata": {},
   "outputs": [
    {
     "name": "stdout",
     "output_type": "stream",
     "text": [
      "[13 19 31 45 47 51 70 76 87 89]\n"
     ]
    }
   ],
   "source": [
    "print(VA[VASorted])"
   ]
  },
  {
   "cell_type": "code",
   "execution_count": 25,
   "id": "4f0c586a",
   "metadata": {},
   "outputs": [
    {
     "name": "stdout",
     "output_type": "stream",
     "text": [
      "[[66 61  6 40]\n",
      " [92  9 52 83]\n",
      " [73 67 55 52]\n",
      " [71 34 47 92]]\n"
     ]
    }
   ],
   "source": [
    "#Ordenar una matriz\n",
    "MA=np.random.randint(100, size=(4,4))\n",
    "print(MA)"
   ]
  },
  {
   "cell_type": "code",
   "execution_count": 26,
   "id": "93e1a45e",
   "metadata": {},
   "outputs": [
    {
     "name": "stdout",
     "output_type": "stream",
     "text": [
      "[[ 6 40 61 66]\n",
      " [ 9 52 83 92]\n",
      " [52 55 67 73]\n",
      " [34 47 71 92]]\n"
     ]
    }
   ],
   "source": [
    "MA_cpy=np.copy(MA)\n",
    "MA_cpy.sort()\n",
    "print(MA_cpy)"
   ]
  },
  {
   "cell_type": "code",
   "execution_count": 27,
   "id": "c54f32d6",
   "metadata": {},
   "outputs": [
    {
     "name": "stdout",
     "output_type": "stream",
     "text": [
      "[[66 61  6 40]\n",
      " [92  9 52 83]\n",
      " [73 67 55 52]\n",
      " [71 34 47 92]]\n"
     ]
    }
   ],
   "source": [
    "MA_cpy=np.copy(MA)\n",
    "print(MA_cpy)"
   ]
  },
  {
   "cell_type": "code",
   "execution_count": 30,
   "id": "d64a6c17",
   "metadata": {},
   "outputs": [
    {
     "data": {
      "text/plain": [
       "array([[66,  9,  6, 40],\n",
       "       [71, 34, 47, 52],\n",
       "       [73, 61, 52, 83],\n",
       "       [92, 67, 55, 92]])"
      ]
     },
     "execution_count": 30,
     "metadata": {},
     "output_type": "execute_result"
    }
   ],
   "source": [
    "#Ordenar solo por filas\n",
    "MA_cpy=np.copy(MA)\n",
    "np.sort(MA_cpy,axis=0)"
   ]
  },
  {
   "cell_type": "code",
   "execution_count": 31,
   "id": "aa9759ef",
   "metadata": {},
   "outputs": [
    {
     "data": {
      "text/plain": [
       "array([[ 6, 40, 61, 66],\n",
       "       [ 9, 52, 83, 92],\n",
       "       [52, 55, 67, 73],\n",
       "       [34, 47, 71, 92]])"
      ]
     },
     "execution_count": 31,
     "metadata": {},
     "output_type": "execute_result"
    }
   ],
   "source": [
    "MA_cpy=np.copy(MA)\n",
    "np.sort(MA_cpy,axis=1)"
   ]
  },
  {
   "cell_type": "code",
   "execution_count": 32,
   "id": "dca9d735",
   "metadata": {},
   "outputs": [
    {
     "name": "stdout",
     "output_type": "stream",
     "text": [
      "[5 8 1 9 1 0 9 4 0 4]\n"
     ]
    }
   ],
   "source": [
    "#Particionando datos\n",
    "VA=np.random.randint(10,size=10)\n",
    "print(VA)"
   ]
  },
  {
   "cell_type": "code",
   "execution_count": 33,
   "id": "5da90ead",
   "metadata": {},
   "outputs": [
    {
     "name": "stdout",
     "output_type": "stream",
     "text": [
      "[0 1 1 0 4 4 9 8 9 5]\n"
     ]
    }
   ],
   "source": [
    "VA.partition(5)\n",
    "print(VA)"
   ]
  },
  {
   "cell_type": "code",
   "execution_count": 37,
   "id": "1f5147c5",
   "metadata": {},
   "outputs": [
    {
     "name": "stdout",
     "output_type": "stream",
     "text": [
      "[[47 34  9 91]\n",
      " [20  9 26 21]\n",
      " [59 78 71 86]\n",
      " [48 66 81 80]]\n"
     ]
    }
   ],
   "source": [
    "MA=np.random.randint(1,100,size=(4,4))\n",
    "print(MA)"
   ]
  },
  {
   "cell_type": "code",
   "execution_count": 38,
   "id": "a0c21d77",
   "metadata": {},
   "outputs": [
    {
     "name": "stdout",
     "output_type": "stream",
     "text": [
      "[[ 9 34 47 91]\n",
      " [ 9 20 21 26]\n",
      " [59 71 78 86]\n",
      " [48 66 80 81]]\n"
     ]
    }
   ],
   "source": [
    "MA_Cpy=np.copy(MA)\n",
    "MA_Cpy.partition(2)\n",
    "print(MA_Cpy)"
   ]
  },
  {
   "cell_type": "code",
   "execution_count": 39,
   "id": "4dfdce45",
   "metadata": {},
   "outputs": [
    {
     "name": "stdout",
     "output_type": "stream",
     "text": [
      "[[ 9 34 47 91]\n",
      " [ 9 20 21 26]\n",
      " [59 71 78 86]\n",
      " [48 66 80 81]]\n"
     ]
    }
   ],
   "source": [
    "MA_Cpy=np.copy(MA)\n",
    "MA_Cpy.partition(2,axis=1)\n",
    "print(MA_Cpy)\n"
   ]
  },
  {
   "cell_type": "code",
   "execution_count": 49,
   "id": "29bcc8f4",
   "metadata": {},
   "outputs": [],
   "source": [
    "###Ejercicio especial vecinos más cercanos\n",
    "###Ejercicio especial vecinos más cercanos\n",
    "###Ejercicio especial vecinos más cercanos\n",
    "###Ejercicio especial vecinos más cercanos\n",
    "###Ejercicio especial vecinos más cercanos\n",
    "###Ejercicio especial vecinos más cercanos\n",
    "###Ejercicio especial vecinos más cercanos\n",
    "###Ejercicio especial vecinos más cercanos\n"
   ]
  },
  {
   "cell_type": "code",
   "execution_count": null,
   "id": "35e29b5d",
   "metadata": {},
   "outputs": [],
   "source": []
  }
 ],
 "metadata": {
  "kernelspec": {
   "display_name": "Python 3 (ipykernel)",
   "language": "python",
   "name": "python3"
  },
  "language_info": {
   "codemirror_mode": {
    "name": "ipython",
    "version": 3
   },
   "file_extension": ".py",
   "mimetype": "text/x-python",
   "name": "python",
   "nbconvert_exporter": "python",
   "pygments_lexer": "ipython3",
   "version": "3.8.12"
  }
 },
 "nbformat": 4,
 "nbformat_minor": 5
}
