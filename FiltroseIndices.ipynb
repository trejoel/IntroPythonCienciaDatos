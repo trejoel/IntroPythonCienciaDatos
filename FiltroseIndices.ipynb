{
 "cells": [
  {
   "cell_type": "code",
   "execution_count": 29,
   "id": "14ac173b",
   "metadata": {},
   "outputs": [],
   "source": [
    "import numpy as np"
   ]
  },
  {
   "cell_type": "code",
   "execution_count": 30,
   "id": "210bb575",
   "metadata": {},
   "outputs": [
    {
     "name": "stdout",
     "output_type": "stream",
     "text": [
      "[[ 9 15 64 28]\n",
      " [89 93 29  8]\n",
      " [73  0 40 36]\n",
      " [16 11 54 88]]\n"
     ]
    }
   ],
   "source": [
    "np.random.seed(10)\n",
    "X=np.random.randint(100,size=(4,4))\n",
    "print(X)"
   ]
  },
  {
   "cell_type": "code",
   "execution_count": 31,
   "id": "a9541a9a",
   "metadata": {},
   "outputs": [
    {
     "name": "stdout",
     "output_type": "stream",
     "text": [
      "[[False False  True  True]\n",
      " [False False False  True]\n",
      " [False  True  True  True]\n",
      " [ True False  True  True]]\n"
     ]
    }
   ],
   "source": [
    "\n",
    "XBool=X%2==0\n",
    "print(XBool)"
   ]
  },
  {
   "cell_type": "code",
   "execution_count": 32,
   "id": "f4028f30",
   "metadata": {},
   "outputs": [
    {
     "name": "stdout",
     "output_type": "stream",
     "text": [
      "[64 28  8  0 40 36 16 54 88]\n"
     ]
    }
   ],
   "source": [
    "parX=X[XBool]\n",
    "print(parX)"
   ]
  },
  {
   "cell_type": "code",
   "execution_count": 33,
   "id": "c0c64912",
   "metadata": {},
   "outputs": [
    {
     "name": "stdout",
     "output_type": "stream",
     "text": [
      "media: 40.8125\n",
      "[[False False  True False]\n",
      " [ True  True False False]\n",
      " [ True False False False]\n",
      " [False False  True  True]]\n",
      "[64 89 93 73 54 88]\n"
     ]
    }
   ],
   "source": [
    "media=np.mean(X)\n",
    "print(\"media:\",media)\n",
    "Xgrandes=X>media\n",
    "print(Xgrandes)\n",
    "mediaX=X[Xgrandes]\n",
    "print(mediaX)"
   ]
  },
  {
   "cell_type": "code",
   "execution_count": 34,
   "id": "91e46ec4",
   "metadata": {},
   "outputs": [
    {
     "name": "stdout",
     "output_type": "stream",
     "text": [
      "[[ 9 15 64 28]\n",
      " [89 93 29  8]\n",
      " [73  0 40 36]\n",
      " [16 11 54 88]]\n"
     ]
    }
   ],
   "source": [
    "print(X)"
   ]
  },
  {
   "cell_type": "code",
   "execution_count": 35,
   "id": "b7ed1687",
   "metadata": {},
   "outputs": [
    {
     "data": {
      "text/plain": [
       "10"
      ]
     },
     "execution_count": 35,
     "metadata": {},
     "output_type": "execute_result"
    }
   ],
   "source": [
    "#Veamos cuantos hay mmenores que la media\n",
    "np.count_nonzero(X<media)"
   ]
  },
  {
   "cell_type": "code",
   "execution_count": 36,
   "id": "ef4385c8",
   "metadata": {},
   "outputs": [
    {
     "data": {
      "text/plain": [
       "10"
      ]
     },
     "execution_count": 36,
     "metadata": {},
     "output_type": "execute_result"
    }
   ],
   "source": [
    "#O bien obtenerlos de la siguiente manera\n",
    "np.sum(X<media)"
   ]
  },
  {
   "cell_type": "code",
   "execution_count": 37,
   "id": "4c09df5b",
   "metadata": {},
   "outputs": [
    {
     "data": {
      "text/plain": [
       "array([3, 2, 3, 2])"
      ]
     },
     "execution_count": 37,
     "metadata": {},
     "output_type": "execute_result"
    }
   ],
   "source": [
    "#Supongamos que deseamos saber cuantos hay en cada fila\n",
    "np.sum(X<media,axis=1)"
   ]
  },
  {
   "cell_type": "code",
   "execution_count": 38,
   "id": "01273103",
   "metadata": {},
   "outputs": [
    {
     "data": {
      "text/plain": [
       "array([2, 3, 2, 3])"
      ]
     },
     "execution_count": 38,
     "metadata": {},
     "output_type": "execute_result"
    }
   ],
   "source": [
    "#Ahora en cada columna\n",
    "np.sum(X<media,axis=0)"
   ]
  },
  {
   "cell_type": "code",
   "execution_count": 39,
   "id": "700f44d6",
   "metadata": {},
   "outputs": [
    {
     "data": {
      "text/plain": [
       "True"
      ]
     },
     "execution_count": 39,
     "metadata": {},
     "output_type": "execute_result"
    }
   ],
   "source": [
    "desviStd=np.std(X)\n",
    "np.any(X>media+desviStd)"
   ]
  },
  {
   "cell_type": "code",
   "execution_count": 40,
   "id": "15865602",
   "metadata": {},
   "outputs": [
    {
     "data": {
      "text/plain": [
       "False"
      ]
     },
     "execution_count": 40,
     "metadata": {},
     "output_type": "execute_result"
    }
   ],
   "source": [
    "np.all(X>media+desviStd)"
   ]
  },
  {
   "cell_type": "code",
   "execution_count": 41,
   "id": "ed84eaa4",
   "metadata": {},
   "outputs": [
    {
     "name": "stdout",
     "output_type": "stream",
     "text": [
      "[189 170 189 163 183 171 185 168 173 183 173 173 175 178 183 193 178 173\n",
      " 174 183 183 168 170 178 182 180 183 178 182 188 175 179 183 193 182 183\n",
      " 177 185 188 188 182 185]\n",
      "[170 163 171 168 173 173 173 175 178 178 173 174 168 170 178 178 175 179\n",
      " 177]\n",
      "19\n"
     ]
    }
   ],
   "source": [
    "###Ahora si, regresemos al ejercicio que estabamos haciendo hace un ratito\n",
    "import pandas as pd\n",
    "data = pd.read_csv('data/altura_presidentes_EEUU.csv')\n",
    "alturas = np.array(data['altura(cm)'])\n",
    "print(alturas)\n",
    "\n",
    "\n",
    "filtro_low=alturas<np.mean(alturas)\n",
    "lowHeights=alturas[filtro_low]\n",
    "print(lowHeights)\n",
    "print(len(lowHeights))"
   ]
  },
  {
   "cell_type": "markdown",
   "id": "cd6dbbde",
   "metadata": {},
   "source": [
    "**Esta parte solo la veremos si el tiempo lo permite**\n",
    "\n",
    "**Esta parte solo la veremos si el tiempo lo permite**\n",
    "\n",
    "**Esta parte solo la veremos si el tiempo lo permite**\n",
    "\n",
    "**Esta parte solo la veremos si el tiempo lo permite**\n"
   ]
  },
  {
   "cell_type": "code",
   "execution_count": 42,
   "id": "bc482c4b",
   "metadata": {},
   "outputs": [],
   "source": [
    "\n",
    "## Trabajemos ahora con los índices\n",
    "## Trabajemos ahora con los índices\n",
    "## Trabajemos ahora con los índices\n",
    "## Trabajemos ahora con los índices\n",
    "## Trabajemos ahora con los índices\n",
    "## Trabajemos ahora con los índices\n",
    "## Trabajemos ahora con los índices\n",
    "## Trabajemos ahora con los índices"
   ]
  },
  {
   "cell_type": "code",
   "execution_count": 43,
   "id": "27858595",
   "metadata": {},
   "outputs": [
    {
     "name": "stdout",
     "output_type": "stream",
     "text": [
      "[1 8 4 1 3 6 5 3 9 6]\n"
     ]
    }
   ],
   "source": [
    "X=np.random.randint(10,size=10)\n",
    "print(X)"
   ]
  },
  {
   "cell_type": "code",
   "execution_count": 44,
   "id": "237e8fa7",
   "metadata": {},
   "outputs": [
    {
     "name": "stdout",
     "output_type": "stream",
     "text": [
      "[8, 1, 6, 3, 6]\n"
     ]
    }
   ],
   "source": [
    "XImp=[X[1],X[3],X[5],X[7],X[9]]\n",
    "print(XImp)"
   ]
  },
  {
   "cell_type": "code",
   "execution_count": 45,
   "id": "0d557753",
   "metadata": {},
   "outputs": [
    {
     "name": "stdout",
     "output_type": "stream",
     "text": [
      "[8 1 6 3 6]\n"
     ]
    }
   ],
   "source": [
    "imparIndex=[1,3,5,7,9]\n",
    "XImp2=X[imparIndex]\n",
    "print(XImp2)"
   ]
  },
  {
   "cell_type": "code",
   "execution_count": 46,
   "id": "6d32aaff",
   "metadata": {},
   "outputs": [
    {
     "name": "stdout",
     "output_type": "stream",
     "text": [
      "[ 1  3  5  7  9 11 13 15 17 19 21 23 25 27 29 31 33 35 37 39 41 43 45 47\n",
      " 49 51 53 55 57 59 61 63 65 67 69 71 73 75 77 79 81 83 85 87 89 91 93 95\n",
      " 97]\n"
     ]
    }
   ],
   "source": [
    "#Y si el arreglo fuera de tamaño 100\n",
    "X=np.random.randint(10,size=100)\n",
    "XInt=np.arange(start=1,stop=99,step=2)\n",
    "print(XInt)"
   ]
  },
  {
   "cell_type": "code",
   "execution_count": 47,
   "id": "68143257",
   "metadata": {},
   "outputs": [
    {
     "name": "stdout",
     "output_type": "stream",
     "text": [
      "[9 1 9 4 2 6 7 8 8 9 2 0 6 7 8 1 7 1 4 0 8 5 4 7 8 8 2 6 2 8 8 6 6 5 6 0 0\n",
      " 6 9 1 8 9 1 2 8 9 9 5 0 2 7 3 0 4 2 0 3 3 1 2 5 9 0 1 0 1 9 0 9 2 1 1 0 0\n",
      " 5 9 0 4 6 6 0 2 3 3 2 6 0 5 1 3 6 5 5 1 8 0 5 9 8 5]\n",
      "[1 4 6 8 9 0 7 1 1 0 5 7 8 6 8 6 5 0 6 1 9 2 9 5 2 3 4 0 3 2 9 1 1 0 2 1 0\n",
      " 9 4 6 2 3 6 5 3 5 1 0 9]\n"
     ]
    }
   ],
   "source": [
    "print(X)\n",
    "print(X[XInt])"
   ]
  },
  {
   "cell_type": "code",
   "execution_count": 48,
   "id": "b19adc9c",
   "metadata": {},
   "outputs": [
    {
     "name": "stdout",
     "output_type": "stream",
     "text": [
      "[[ 0  1  2  3  4]\n",
      " [ 5  6  7  8  9]\n",
      " [10 11 12 13 14]\n",
      " [15 16 17 18 19]\n",
      " [20 21 22 23 24]]\n"
     ]
    }
   ],
   "source": [
    "#Ejemplo 2\n",
    "X = np.arange(25).reshape((5, 5))\n",
    "print(X)"
   ]
  },
  {
   "cell_type": "code",
   "execution_count": 49,
   "id": "58e88b80",
   "metadata": {},
   "outputs": [
    {
     "name": "stdout",
     "output_type": "stream",
     "text": [
      "[ 5 17 14]\n"
     ]
    }
   ],
   "source": [
    "fila=np.array([1,3,2])\n",
    "columna=np.array([0,2,4])\n",
    "print(X[fila,columna])"
   ]
  },
  {
   "cell_type": "code",
   "execution_count": 50,
   "id": "3fa801b4",
   "metadata": {},
   "outputs": [
    {
     "name": "stdout",
     "output_type": "stream",
     "text": [
      "[[ 0  1  2  3  4]\n",
      " [ 5  6  7  8  9]\n",
      " [10 11 12 13 14]\n",
      " [15 16 17 18 19]\n",
      " [20 21 22 23 24]]\n"
     ]
    }
   ],
   "source": [
    "#Combinando índices\n",
    "print(X)"
   ]
  },
  {
   "cell_type": "code",
   "execution_count": 51,
   "id": "c237c7be",
   "metadata": {},
   "outputs": [
    {
     "data": {
      "text/plain": [
       "array([18, 16, 19])"
      ]
     },
     "execution_count": 51,
     "metadata": {},
     "output_type": "execute_result"
    }
   ],
   "source": [
    "X[3,[3,1,4]]"
   ]
  },
  {
   "cell_type": "code",
   "execution_count": 102,
   "id": "a3d59f9f",
   "metadata": {},
   "outputs": [
    {
     "data": {
      "text/plain": [
       "array([[13, 11, 14],\n",
       "       [18, 16, 19],\n",
       "       [23, 21, 24]])"
      ]
     },
     "execution_count": 102,
     "metadata": {},
     "output_type": "execute_result"
    }
   ],
   "source": [
    "X[2:,[3,1,4]]"
   ]
  },
  {
   "cell_type": "code",
   "execution_count": 103,
   "id": "84ea5153",
   "metadata": {},
   "outputs": [],
   "source": [
    "#Asi como podemos filtrar valores, también podemos cambiar los valores\n",
    "X[2:,[3,1,4]]=0"
   ]
  },
  {
   "cell_type": "code",
   "execution_count": 106,
   "id": "39127930",
   "metadata": {},
   "outputs": [
    {
     "name": "stdout",
     "output_type": "stream",
     "text": [
      "[[ 0  1  2  3  4]\n",
      " [ 5  6  7  8  9]\n",
      " [10  0 12  0  0]\n",
      " [15  0 17  0  0]\n",
      " [20  0 22  0  0]]\n"
     ]
    }
   ],
   "source": [
    "print(X)"
   ]
  },
  {
   "cell_type": "code",
   "execution_count": 108,
   "id": "a3c44b16",
   "metadata": {},
   "outputs": [
    {
     "name": "stdout",
     "output_type": "stream",
     "text": [
      "[[ 0  1  2  3  4]\n",
      " [ 5  6  7  8  9]\n",
      " [10 11 12 13 14]\n",
      " [15 16 17 18 19]\n",
      " [20 21 22 23 24]]\n"
     ]
    }
   ],
   "source": [
    "Y=np.copy(X)\n",
    "print(Y)"
   ]
  },
  {
   "cell_type": "code",
   "execution_count": 109,
   "id": "a580c720",
   "metadata": {},
   "outputs": [
    {
     "name": "stdout",
     "output_type": "stream",
     "text": [
      "[[ 0  1  2  3  4]\n",
      " [ 5  6  7  8  9]\n",
      " [10  0 12  0  0]\n",
      " [15  0 17  0  0]\n",
      " [20  0 22  0  0]]\n"
     ]
    }
   ],
   "source": [
    "#Ahora asignemos a los 0's de la columna número 1 incrementemos el valor 1 \n",
    "Y[2:,[3,1,4]]=0\n",
    "print(Y)"
   ]
  },
  {
   "cell_type": "code",
   "execution_count": 110,
   "id": "4e558bfa",
   "metadata": {},
   "outputs": [
    {
     "name": "stdout",
     "output_type": "stream",
     "text": [
      "[[ 0  1  2  3  4]\n",
      " [ 5  6  7  8  9]\n",
      " [10  1 12  0  0]\n",
      " [15  1 17  0  0]\n",
      " [20  1 22  0  0]]\n"
     ]
    }
   ],
   "source": [
    "#Ahora incrementemos el valor 1 a los elementos en la columna 1\n",
    "Y[2:,[1]]=Y[2:,[1]]+1\n",
    "print(Y)"
   ]
  },
  {
   "cell_type": "code",
   "execution_count": 111,
   "id": "b8b0e91f",
   "metadata": {},
   "outputs": [
    {
     "name": "stdout",
     "output_type": "stream",
     "text": [
      "[[ 0  1  2  3  4]\n",
      " [ 5  6  7  8  9]\n",
      " [10  1 12  2  2]\n",
      " [15  1 17  0  0]\n",
      " [20  1 22  0  0]]\n"
     ]
    }
   ],
   "source": [
    "#Ahora incrementemos en dos el valor de la fila 2 y columnas 3 y 4\n",
    "Y[2,[3,4]]=2\n",
    "print(Y)"
   ]
  },
  {
   "cell_type": "code",
   "execution_count": null,
   "id": "92c10e02",
   "metadata": {},
   "outputs": [],
   "source": [
    "###EJERCICIOS\n",
    "###EJERCICIOS\n",
    "###EJERCICIOS\n",
    "###EJERCICIOS\n",
    "###EJERCICIOS\n",
    "###EJERCICIOS\n",
    "###EJERCICIOS\n",
    "###EJERCICIOS\n",
    "###EJERCICIOS\n",
    "###EJERCICIOS\n",
    "###EJERCICIOS\n",
    "###EJERCICIOS\n",
    "###EJERCICIOS\n",
    "###EJERCICIOS\n",
    "###EJERCICIOS\n",
    "###EJERCICIOS\n",
    "###EJERCICIOS\n",
    "###EJERCICIOS\n",
    "###EJERCICIOS\n",
    "###EJERCICIOS"
   ]
  },
  {
   "cell_type": "code",
   "execution_count": 114,
   "id": "9a5989f7",
   "metadata": {},
   "outputs": [
    {
     "name": "stdout",
     "output_type": "stream",
     "text": [
      "[[  66   65   87    3]\n",
      " [ -80   59  -11   24]\n",
      " [-100   -4  -75  -37]\n",
      " [ -41  -98  -70  -83]]\n"
     ]
    }
   ],
   "source": [
    "M_Ex1=np.random.randint(-100,100,size=16).reshape(4,4)\n",
    "print(M_Ex1)"
   ]
  },
  {
   "cell_type": "code",
   "execution_count": 115,
   "id": "90113ffa",
   "metadata": {},
   "outputs": [
    {
     "name": "stdout",
     "output_type": "stream",
     "text": [
      "-295\n"
     ]
    }
   ],
   "source": [
    "suma=np.sum(M_Ex1)\n",
    "print(suma)"
   ]
  },
  {
   "cell_type": "code",
   "execution_count": 116,
   "id": "856c920a",
   "metadata": {},
   "outputs": [
    {
     "name": "stdout",
     "output_type": "stream",
     "text": [
      "221\n"
     ]
    }
   ],
   "source": [
    "suma_1=np.sum(M_Ex1[0])\n",
    "print(suma_1)"
   ]
  },
  {
   "cell_type": "code",
   "execution_count": 118,
   "id": "0fd03776",
   "metadata": {},
   "outputs": [
    {
     "name": "stdout",
     "output_type": "stream",
     "text": [
      "-155\n"
     ]
    }
   ],
   "source": [
    "suma_1=np.sum(M_Ex1[:,0])\n",
    "print(suma_1)"
   ]
  },
  {
   "cell_type": "code",
   "execution_count": 119,
   "id": "064c7274",
   "metadata": {},
   "outputs": [
    {
     "name": "stdout",
     "output_type": "stream",
     "text": [
      "-23.25\n"
     ]
    }
   ],
   "source": [
    "media_1=np.mean(M_Ex1[:,3])\n",
    "print(media_1)"
   ]
  },
  {
   "cell_type": "code",
   "execution_count": 124,
   "id": "c475ebb2",
   "metadata": {},
   "outputs": [
    {
     "name": "stdout",
     "output_type": "stream",
     "text": [
      "[[ True  True  True  True]\n",
      " [False  True  True  True]\n",
      " [False  True False False]\n",
      " [False False False False]]\n"
     ]
    }
   ],
   "source": [
    "filtro=M_Ex1>media_1\n",
    "print(filtro)"
   ]
  },
  {
   "cell_type": "code",
   "execution_count": 126,
   "id": "2033412c",
   "metadata": {},
   "outputs": [
    {
     "name": "stdout",
     "output_type": "stream",
     "text": [
      "[ 66  65  87   3  59 -11  24  -4]\n"
     ]
    }
   ],
   "source": [
    "M_Ex2=M_Ex1[filtro]\n",
    "print(M_Ex2)"
   ]
  }
 ],
 "metadata": {
  "kernelspec": {
   "display_name": "Python 3 (ipykernel)",
   "language": "python",
   "name": "python3"
  },
  "language_info": {
   "codemirror_mode": {
    "name": "ipython",
    "version": 3
   },
   "file_extension": ".py",
   "mimetype": "text/x-python",
   "name": "python",
   "nbconvert_exporter": "python",
   "pygments_lexer": "ipython3",
   "version": "3.8.12"
  }
 },
 "nbformat": 4,
 "nbformat_minor": 5
}
