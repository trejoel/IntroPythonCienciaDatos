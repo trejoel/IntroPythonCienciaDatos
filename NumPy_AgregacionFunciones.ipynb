{
 "cells": [
  {
   "cell_type": "code",
   "execution_count": 55,
   "id": "6d4a2ca1",
   "metadata": {},
   "outputs": [
    {
     "name": "stdout",
     "output_type": "stream",
     "text": [
      "[55 21 55 49 72 86 69 74 99 76 44 88 32 72  6 93  7 62 55 29]\n"
     ]
    }
   ],
   "source": [
    "import numpy as np\n",
    "\n",
    "L=np.random.randint(100,size=20)\n",
    "print(L)"
   ]
  },
  {
   "cell_type": "code",
   "execution_count": 56,
   "id": "54eeaaad",
   "metadata": {},
   "outputs": [
    {
     "name": "stdout",
     "output_type": "stream",
     "text": [
      "6\n",
      "6\n"
     ]
    }
   ],
   "source": [
    "def minElemento(L):\n",
    "    xMin=L[0]\n",
    "    for i in range(1,len(L)):\n",
    "        if L[i]<xMin:\n",
    "            xMin=L[i]\n",
    "    return xMin\n",
    "\n",
    "minV=minElemento(L)\n",
    "print(minV)\n",
    "\n",
    "minV2=np.min(L)\n",
    "print(minV2)\n"
   ]
  },
  {
   "cell_type": "code",
   "execution_count": 57,
   "id": "19c8d4ca",
   "metadata": {},
   "outputs": [
    {
     "name": "stdout",
     "output_type": "stream",
     "text": [
      "1144\n"
     ]
    }
   ],
   "source": [
    "\n",
    "addL=np.sum(L)\n",
    "print(addL)"
   ]
  },
  {
   "cell_type": "code",
   "execution_count": 58,
   "id": "dbf85b59",
   "metadata": {},
   "outputs": [
    {
     "name": "stdout",
     "output_type": "stream",
     "text": [
      "6 99 1144\n"
     ]
    }
   ],
   "source": [
    "print(np.min(L),np.max(L),np.sum(L))"
   ]
  },
  {
   "cell_type": "code",
   "execution_count": 59,
   "id": "c251f374",
   "metadata": {},
   "outputs": [
    {
     "name": "stdout",
     "output_type": "stream",
     "text": [
      "[[14 41 69]\n",
      " [95  4  1]\n",
      " [66 45 31]]\n"
     ]
    }
   ],
   "source": [
    "#Igual se puede hacer sobre arreglos\n",
    "MA=np.random.randint(100,size=(3,3))\n",
    "print(MA)"
   ]
  },
  {
   "cell_type": "code",
   "execution_count": 60,
   "id": "b3f3fd20",
   "metadata": {},
   "outputs": [
    {
     "name": "stdout",
     "output_type": "stream",
     "text": [
      "1\n"
     ]
    }
   ],
   "source": [
    "minMA=np.min(MA)\n",
    "print(minMA)"
   ]
  },
  {
   "cell_type": "code",
   "execution_count": 61,
   "id": "176c4b63",
   "metadata": {},
   "outputs": [
    {
     "name": "stdout",
     "output_type": "stream",
     "text": [
      "[14  4  1]\n"
     ]
    }
   ],
   "source": [
    "minMAbyColumn=np.min(MA,axis=0)\n",
    "print(minMAbyColumn)"
   ]
  },
  {
   "cell_type": "code",
   "execution_count": 62,
   "id": "4788efd8",
   "metadata": {},
   "outputs": [
    {
     "name": "stdout",
     "output_type": "stream",
     "text": [
      "[14  1 31]\n"
     ]
    }
   ],
   "source": [
    "minMAbyRow=np.min(MA,axis=1)\n",
    "print(minMAbyRow)"
   ]
  },
  {
   "cell_type": "code",
   "execution_count": 63,
   "id": "eb61e112",
   "metadata": {},
   "outputs": [
    {
     "data": {
      "text/plain": [
       "1"
      ]
     },
     "execution_count": 63,
     "metadata": {},
     "output_type": "execute_result"
    }
   ],
   "source": [
    "minMA"
   ]
  },
  {
   "cell_type": "code",
   "execution_count": 64,
   "id": "283dd898",
   "metadata": {},
   "outputs": [
    {
     "name": "stdout",
     "output_type": "stream",
     "text": [
      "    orden                  nombre  altura(cm)\n",
      "0       1       George Washington         189\n",
      "1       2              John Adams         170\n",
      "2       3        Thomas Jefferson         189\n",
      "3       4           James Madison         163\n",
      "4       5            James Monroe         183\n",
      "5       6       John Quincy Adams         171\n",
      "6       7          Andrew Jackson         185\n",
      "7       8        Martin Van Buren         168\n",
      "8       9  William Henry Harrison         173\n",
      "9      10              John Tyler         183\n",
      "10     11           James K. Polk         173\n",
      "11     12          Zachary Taylor         173\n",
      "12     13        Millard Fillmore         175\n",
      "13     14         Franklin Pierce         178\n",
      "14     15          James Buchanan         183\n",
      "15     16         Abraham Lincoln         193\n",
      "16     17          Andrew Johnson         178\n",
      "17     18        Ulysses S. Grant         173\n",
      "18     19     Rutherford B. Hayes         174\n",
      "19     20       James A. Garfield         183\n",
      "20     21       Chester A. Arthur         183\n",
      "21     23       Benjamin Harrison         168\n",
      "22     25        William McKinley         170\n",
      "23     26      Theodore Roosevelt         178\n",
      "24     27     William Howard Taft         182\n",
      "25     28          Woodrow Wilson         180\n",
      "26     29       Warren G. Harding         183\n",
      "27     30         Calvin Coolidge         178\n",
      "28     31          Herbert Hoover         182\n",
      "29     32   Franklin D. Roosevelt         188\n",
      "30     33         Harry S. Truman         175\n",
      "31     34    Dwight D. Eisenhower         179\n",
      "32     35         John F. Kennedy         183\n",
      "33     36       Lyndon B. Johnson         193\n",
      "34     37           Richard Nixon         182\n",
      "35     38             Gerald Ford         183\n",
      "36     39            Jimmy Carter         177\n",
      "37     40           Ronald Reagan         185\n",
      "38     41       George H. W. Bush         188\n",
      "39     42            Bill Clinton         188\n",
      "40     43          George W. Bush         182\n",
      "41     44            Barack Obama         185\n"
     ]
    }
   ],
   "source": [
    "import pandas as pd\n",
    "data = pd.read_csv('data/altura_presidentes_EEUU.csv')\n",
    "print(data)"
   ]
  },
  {
   "cell_type": "code",
   "execution_count": 65,
   "id": "50297c9a",
   "metadata": {},
   "outputs": [
    {
     "name": "stdout",
     "output_type": "stream",
     "text": [
      "[189 170 189 163 183 171 185 168 173 183 173 173 175 178 183 193 178 173\n",
      " 174 183 183 168 170 178 182 180 183 178 182 188 175 179 183 193 182 183\n",
      " 177 185 188 188 182 185]\n"
     ]
    }
   ],
   "source": [
    "alturas = np.array(data['altura(cm)'])\n",
    "print(heights)"
   ]
  },
  {
   "cell_type": "code",
   "execution_count": 66,
   "id": "04cebc87",
   "metadata": {},
   "outputs": [
    {
     "name": "stdout",
     "output_type": "stream",
     "text": [
      "Valor medio:        179.73809523809524\n",
      "Desviación Estandar: 6.931843442745892\n",
      "Minima Altura:     163\n",
      "Maxima Altura:     193\n",
      "Mediana alturas: 182.0\n"
     ]
    }
   ],
   "source": [
    "mediaAlturas=np.mean(alturas)\n",
    "stdAlturas=alturas.std()\n",
    "minAlturas=alturas.min()\n",
    "maxAlturas=np.max(alturas)\n",
    "medianaAlturas=np.median(alturas)\n",
    "\n",
    "print(\"Valor medio:       \", mediaAlturas)\n",
    "print(\"Desviación Estandar:\", stdAlturas)\n",
    "print(\"Minima Altura:    \", minAlturas)\n",
    "print(\"Maxima Altura:    \", maxAlturas)\n",
    "print(\"Mediana alturas:\", medianaAlturas)\n",
    "\n"
   ]
  },
  {
   "cell_type": "code",
   "execution_count": 69,
   "id": "db9553c1",
   "metadata": {},
   "outputs": [
    {
     "name": "stdout",
     "output_type": "stream",
     "text": [
      "[[33 31 21]\n",
      " [17 46 29]\n",
      " [20 92  0]]\n",
      "[[54 53 90]\n",
      " [90 90 25]\n",
      " [73 50 75]]\n"
     ]
    }
   ],
   "source": [
    "#Operaciones que involucran mas de un vector o matriz\n",
    "\n",
    "MA=np.random.randint(100,size=(3,3))\n",
    "MB=np.random.randint(100,size=(3,3))\n",
    "print(MA)\n",
    "print(MB)"
   ]
  },
  {
   "cell_type": "code",
   "execution_count": 70,
   "id": "b1855fb9",
   "metadata": {},
   "outputs": [],
   "source": [
    "def sumaMatrices(ma,mb):\n",
    "    newMatriz=np.zeros((3,3))\n",
    "    rows,columns=ma.shape\n",
    "    for i in range(0,rows):\n",
    "        for j in range(0,columns):\n",
    "            newMatriz[i,j]=ma[i,j]+mb[i,j]\n",
    "    return newMatriz"
   ]
  },
  {
   "cell_type": "code",
   "execution_count": 71,
   "id": "76936f19",
   "metadata": {},
   "outputs": [
    {
     "name": "stdout",
     "output_type": "stream",
     "text": [
      "[[ 87.  84. 111.]\n",
      " [107. 136.  54.]\n",
      " [ 93. 142.  75.]]\n"
     ]
    }
   ],
   "source": [
    "print(sumaMatrices(MA,MB))"
   ]
  },
  {
   "cell_type": "code",
   "execution_count": 72,
   "id": "18a218a5",
   "metadata": {},
   "outputs": [
    {
     "name": "stdout",
     "output_type": "stream",
     "text": [
      "[[ 87  84 111]\n",
      " [107 136  54]\n",
      " [ 93 142  75]]\n"
     ]
    }
   ],
   "source": [
    "print(MA+MB)"
   ]
  },
  {
   "cell_type": "code",
   "execution_count": 73,
   "id": "c68cd315",
   "metadata": {},
   "outputs": [
    {
     "name": "stdout",
     "output_type": "stream",
     "text": [
      "[[1782 1643 1890]\n",
      " [1530 4140  725]\n",
      " [1460 4600    0]]\n"
     ]
    }
   ],
   "source": [
    "#Será que la multiplicacion tambien funcione?\n",
    "print(MA*MB)"
   ]
  },
  {
   "cell_type": "code",
   "execution_count": 74,
   "id": "d8685583",
   "metadata": {},
   "outputs": [
    {
     "name": "stdout",
     "output_type": "stream",
     "text": [
      "[[ 5 18 43]\n",
      " [51 34 50]\n",
      " [18 70 52]\n",
      " [67 12 77]\n",
      " [57 60 88]\n",
      " [17 47 63]\n",
      " [24 90 34]\n",
      " [76 70 40]\n",
      " [28 40 35]\n",
      " [92 11 65]]\n"
     ]
    }
   ],
   "source": [
    "#Hagamos un ejemplo con los elementos de una submatriz\n",
    "M = np.random.randint(100,size=(10, 3))\n",
    "print(M)"
   ]
  },
  {
   "cell_type": "code",
   "execution_count": 76,
   "id": "1ab76f52",
   "metadata": {},
   "outputs": [
    {
     "name": "stdout",
     "output_type": "stream",
     "text": [
      "47.8\n"
     ]
    }
   ],
   "source": [
    "Mmedia=np.mean(M)\n",
    "print(Mmedia)"
   ]
  },
  {
   "cell_type": "code",
   "execution_count": null,
   "id": "ae5558de",
   "metadata": {},
   "outputs": [],
   "source": [
    "#Ejercicio de funciones de agregación"
   ]
  },
  {
   "cell_type": "code",
   "execution_count": null,
   "id": "e757191d",
   "metadata": {},
   "outputs": [],
   "source": []
  },
  {
   "cell_type": "code",
   "execution_count": null,
   "id": "36f9fde4",
   "metadata": {},
   "outputs": [],
   "source": []
  },
  {
   "cell_type": "code",
   "execution_count": null,
   "id": "864afe30",
   "metadata": {},
   "outputs": [],
   "source": []
  },
  {
   "cell_type": "code",
   "execution_count": 61,
   "id": "e295b80f",
   "metadata": {},
   "outputs": [
    {
     "name": "stdout",
     "output_type": "stream",
     "text": [
      "42\n"
     ]
    }
   ],
   "source": [
    "total=np.count_nonzero(heights)\n",
    "print(total)"
   ]
  },
  {
   "cell_type": "code",
   "execution_count": 50,
   "id": "888faee5",
   "metadata": {},
   "outputs": [],
   "source": [
    "def all_debajoMedia(L):\n",
    "    media=np.mean(L)\n",
    "    contador=0\n",
    "    for i in L:\n",
    "        if i<media:\n",
    "            contador=contador+1\n",
    "    return contador"
   ]
  },
  {
   "cell_type": "code",
   "execution_count": 51,
   "id": "c7ca3512",
   "metadata": {},
   "outputs": [
    {
     "name": "stdout",
     "output_type": "stream",
     "text": [
      "19\n"
     ]
    }
   ],
   "source": [
    "debajoMedia=all_debajoMedia(alturas)\n",
    "print(debajoMedia)"
   ]
  },
  {
   "cell_type": "code",
   "execution_count": null,
   "id": "0d42653b",
   "metadata": {},
   "outputs": [],
   "source": []
  }
 ],
 "metadata": {
  "kernelspec": {
   "display_name": "Python 3 (ipykernel)",
   "language": "python",
   "name": "python3"
  },
  "language_info": {
   "codemirror_mode": {
    "name": "ipython",
    "version": 3
   },
   "file_extension": ".py",
   "mimetype": "text/x-python",
   "name": "python",
   "nbconvert_exporter": "python",
   "pygments_lexer": "ipython3",
   "version": "3.8.12"
  }
 },
 "nbformat": 4,
 "nbformat_minor": 5
}
