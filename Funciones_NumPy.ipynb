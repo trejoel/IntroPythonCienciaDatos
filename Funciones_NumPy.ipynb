{
 "cells": [
  {
   "cell_type": "code",
   "execution_count": 27,
   "id": "8308d42d",
   "metadata": {},
   "outputs": [],
   "source": [
    "import numpy as np\n",
    "np.random.seed(0)\n",
    "\n",
    "valores=np.random.randint(1,10,size=10)"
   ]
  },
  {
   "cell_type": "code",
   "execution_count": 28,
   "id": "fb4fdf07",
   "metadata": {},
   "outputs": [
    {
     "name": "stdout",
     "output_type": "stream",
     "text": [
      "[6 1 4 4 8 4 6 3 5 8]\n"
     ]
    }
   ],
   "source": [
    "print(valores)"
   ]
  },
  {
   "cell_type": "code",
   "execution_count": 29,
   "id": "32e7f8eb",
   "metadata": {},
   "outputs": [
    {
     "name": "stdout",
     "output_type": "stream",
     "text": [
      "[ 8  3  6  6 10  6  8  5  7 10]\n"
     ]
    }
   ],
   "source": [
    "#Aplicar la misma función a un arreglo NP\n",
    "valoresmasdos=np.add(valores,2)\n",
    "print(valoresmasdos)"
   ]
  },
  {
   "cell_type": "code",
   "execution_count": 30,
   "id": "7fa5d7df",
   "metadata": {},
   "outputs": [
    {
     "name": "stdout",
     "output_type": "stream",
     "text": [
      "[6 8 8 1 6]\n"
     ]
    }
   ],
   "source": [
    "x=np.random.randint(10,size=5)\n",
    "print(x)"
   ]
  },
  {
   "cell_type": "code",
   "execution_count": 31,
   "id": "f7917ce6",
   "metadata": {},
   "outputs": [
    {
     "name": "stdout",
     "output_type": "stream",
     "text": [
      "[11 13 13  6 11]\n"
     ]
    }
   ],
   "source": [
    "y=x+5\n",
    "print(y)"
   ]
  },
  {
   "cell_type": "code",
   "execution_count": 32,
   "id": "ca4e234d",
   "metadata": {},
   "outputs": [
    {
     "name": "stdout",
     "output_type": "stream",
     "text": [
      "[ 1  3  3 -4  1]\n"
     ]
    }
   ],
   "source": [
    "y=x-5\n",
    "print(y)"
   ]
  },
  {
   "cell_type": "code",
   "execution_count": 33,
   "id": "63510a64",
   "metadata": {},
   "outputs": [
    {
     "name": "stdout",
     "output_type": "stream",
     "text": [
      "[3 4 4 0 3]\n"
     ]
    }
   ],
   "source": [
    "y=x//2\n",
    "print(y)"
   ]
  },
  {
   "cell_type": "code",
   "execution_count": 34,
   "id": "d1a55f7a",
   "metadata": {},
   "outputs": [
    {
     "name": "stdout",
     "output_type": "stream",
     "text": [
      "[6 8 8 1 6]\n"
     ]
    }
   ],
   "source": [
    "import math\n",
    "y=abs(x)\n",
    "print(y)"
   ]
  },
  {
   "cell_type": "code",
   "execution_count": 35,
   "id": "86a7aeea",
   "metadata": {},
   "outputs": [
    {
     "name": "stdout",
     "output_type": "stream",
     "text": [
      "[1.79175947 2.07944154 2.07944154 0.         1.79175947]\n"
     ]
    }
   ],
   "source": [
    "y=np.log(x)\n",
    "print(y)"
   ]
  },
  {
   "cell_type": "code",
   "execution_count": 36,
   "id": "92ae5055",
   "metadata": {},
   "outputs": [
    {
     "name": "stdout",
     "output_type": "stream",
     "text": [
      "x: [6 8 8 1 6]\n",
      "Funcion seno: [-0.2794155   0.98935825  0.98935825  0.84147098 -0.2794155 ]\n"
     ]
    }
   ],
   "source": [
    "ysin=np.sin(x)\n",
    "print(\"x:\",x)\n",
    "print(\"Funcion seno:\",ysin)"
   ]
  },
  {
   "cell_type": "code",
   "execution_count": 37,
   "id": "430d536f",
   "metadata": {},
   "outputs": [
    {
     "name": "stdout",
     "output_type": "stream",
     "text": [
      "15\n"
     ]
    }
   ],
   "source": [
    "#Funciones de agregación\n",
    "x=np.arange(1,6)\n",
    "y=np.add.reduce(x)\n",
    "print(y)"
   ]
  },
  {
   "cell_type": "code",
   "execution_count": 38,
   "id": "13854720",
   "metadata": {},
   "outputs": [
    {
     "name": "stdout",
     "output_type": "stream",
     "text": [
      "120\n"
     ]
    }
   ],
   "source": [
    "y=np.multiply.reduce(x)\n",
    "print(y)"
   ]
  },
  {
   "cell_type": "code",
   "execution_count": 41,
   "id": "4a08b996",
   "metadata": {},
   "outputs": [
    {
     "name": "stdout",
     "output_type": "stream",
     "text": [
      "[1 2 3 4 5]\n",
      "[ 1  3  6 10 15]\n"
     ]
    }
   ],
   "source": [
    "y=np.add.accumulate(x)\n",
    "print(x)\n",
    "print(y)"
   ]
  },
  {
   "cell_type": "code",
   "execution_count": 42,
   "id": "b9080014",
   "metadata": {},
   "outputs": [
    {
     "name": "stdout",
     "output_type": "stream",
     "text": [
      "[  1   2   6  24 120]\n"
     ]
    }
   ],
   "source": [
    "y=np.multiply.accumulate(x)\n",
    "print(y)"
   ]
  },
  {
   "cell_type": "code",
   "execution_count": 43,
   "id": "dcbb94d8",
   "metadata": {},
   "outputs": [
    {
     "name": "stdout",
     "output_type": "stream",
     "text": [
      "[  1   2   6  24 120]\n"
     ]
    }
   ],
   "source": [
    "#Hagamos una función que dado un arreglo de enteros positivos [0..10], imprima el factorial del entero correspondiente\n",
    "def factorial(x):\n",
    "    if x<2:\n",
    "        return 1\n",
    "    else:\n",
    "        return x*factorial(x-1)\n",
    "\n",
    "y=np.array(list(map(lambda a:factorial(a),x)))\n",
    "print(y)"
   ]
  },
  {
   "cell_type": "code",
   "execution_count": 44,
   "id": "7ceaec66",
   "metadata": {},
   "outputs": [
    {
     "name": "stdout",
     "output_type": "stream",
     "text": [
      "[[7 7 8]\n",
      " [1 5 8]\n",
      " [4 3 0]]\n"
     ]
    }
   ],
   "source": [
    "M=np.random.randint(9,size=(3,3))\n",
    "print(M)"
   ]
  },
  {
   "cell_type": "code",
   "execution_count": 45,
   "id": "c1e0a62a",
   "metadata": {},
   "outputs": [
    {
     "name": "stdout",
     "output_type": "stream",
     "text": [
      "[[5.040e+03 5.040e+03 4.032e+04]\n",
      " [1.000e+00 1.200e+02 4.032e+04]\n",
      " [2.400e+01 6.000e+00 1.000e+00]]\n"
     ]
    }
   ],
   "source": [
    "X=np.zeros(9).reshape(3,3)\n",
    "for i in range(3):\n",
    "    X[i]=np.array(list(map(lambda a:factorial(a),M[i])))\n",
    "print(X)"
   ]
  },
  {
   "cell_type": "code",
   "execution_count": null,
   "id": "a61eb3b8",
   "metadata": {},
   "outputs": [],
   "source": []
  }
 ],
 "metadata": {
  "kernelspec": {
   "display_name": "Python 3 (ipykernel)",
   "language": "python",
   "name": "python3"
  },
  "language_info": {
   "codemirror_mode": {
    "name": "ipython",
    "version": 3
   },
   "file_extension": ".py",
   "mimetype": "text/x-python",
   "name": "python",
   "nbconvert_exporter": "python",
   "pygments_lexer": "ipython3",
   "version": "3.8.12"
  }
 },
 "nbformat": 4,
 "nbformat_minor": 5
}
