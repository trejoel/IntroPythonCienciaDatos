{
 "cells": [
  {
   "cell_type": "markdown",
   "id": "7c336110",
   "metadata": {},
   "source": [
    "Crearemos un vector de 10 elementos con valores del 1 al 10\n"
   ]
  },
  {
   "cell_type": "code",
   "execution_count": 1,
   "id": "b2d833b4",
   "metadata": {},
   "outputs": [
    {
     "name": "stdout",
     "output_type": "stream",
     "text": [
      "[5 0 3 3 7 9 3 5 2 4]\n"
     ]
    }
   ],
   "source": [
    "import numpy as np\n",
    "np.random.seed(0)\n",
    "\n",
    "x1=np.random.randint(10,size=10)\n",
    "print(x1)"
   ]
  },
  {
   "cell_type": "markdown",
   "id": "7308197c",
   "metadata": {},
   "source": [
    "También podemos crear una matriz. Por ejemplo creemos una matriz de 4 x 4"
   ]
  },
  {
   "cell_type": "code",
   "execution_count": 51,
   "id": "f9ee87b3",
   "metadata": {},
   "outputs": [
    {
     "name": "stdout",
     "output_type": "stream",
     "text": [
      "[[2 3 0 0]\n",
      " [6 0 6 3]\n",
      " [3 8 8 8]\n",
      " [2 3 2 0]]\n"
     ]
    }
   ],
   "source": [
    "M1=np.random.randint(10,size=(4,4))\n",
    "print(M1)"
   ]
  },
  {
   "cell_type": "markdown",
   "id": "5162c4f7",
   "metadata": {},
   "source": [
    "O incluso un arreglo de más de dos dimensiones. Ejemplo creemos un arreglo de 3 dimensiones."
   ]
  },
  {
   "cell_type": "code",
   "execution_count": 3,
   "id": "21b59199",
   "metadata": {},
   "outputs": [
    {
     "name": "stdout",
     "output_type": "stream",
     "text": [
      "[[[0 3 5]\n",
      "  [0 2 3]\n",
      "  [8 1 3]]\n",
      "\n",
      " [[3 3 7]\n",
      "  [0 1 9]\n",
      "  [9 0 4]]\n",
      "\n",
      " [[7 3 2]\n",
      "  [7 2 0]\n",
      "  [0 4 5]]]\n"
     ]
    }
   ],
   "source": [
    "#Arreglo de 3 dimensiones\n",
    "M3=np.random.randint(10,size=(3,3,3))\n",
    "print(M3)"
   ]
  },
  {
   "cell_type": "code",
   "execution_count": 5,
   "id": "d0a322fc",
   "metadata": {},
   "outputs": [
    {
     "data": {
      "text/plain": [
       "array([5, 0, 3, 3, 7, 9, 3, 5, 2, 4])"
      ]
     },
     "execution_count": 5,
     "metadata": {},
     "output_type": "execute_result"
    }
   ],
   "source": [
    "x1"
   ]
  },
  {
   "cell_type": "code",
   "execution_count": 9,
   "id": "6a3fca63",
   "metadata": {},
   "outputs": [
    {
     "data": {
      "text/plain": [
       "9"
      ]
     },
     "execution_count": 9,
     "metadata": {},
     "output_type": "execute_result"
    }
   ],
   "source": [
    "x1[5]"
   ]
  },
  {
   "cell_type": "code",
   "execution_count": 11,
   "id": "3bfb56a1",
   "metadata": {},
   "outputs": [
    {
     "data": {
      "text/plain": [
       "4"
      ]
     },
     "execution_count": 11,
     "metadata": {},
     "output_type": "execute_result"
    }
   ],
   "source": [
    "#Acceder a la última posición de un arreglo\n",
    "x1[-1]"
   ]
  },
  {
   "cell_type": "code",
   "execution_count": 10,
   "id": "86b9e371",
   "metadata": {},
   "outputs": [
    {
     "data": {
      "text/plain": [
       "array([[7, 6, 8, 8],\n",
       "       [1, 6, 7, 7],\n",
       "       [8, 1, 5, 9],\n",
       "       [8, 9, 4, 3]])"
      ]
     },
     "execution_count": 10,
     "metadata": {},
     "output_type": "execute_result"
    }
   ],
   "source": [
    "M1"
   ]
  },
  {
   "cell_type": "code",
   "execution_count": 7,
   "id": "7592ac3d",
   "metadata": {},
   "outputs": [
    {
     "data": {
      "text/plain": [
       "9"
      ]
     },
     "execution_count": 7,
     "metadata": {},
     "output_type": "execute_result"
    }
   ],
   "source": [
    "M1[1,1]"
   ]
  },
  {
   "cell_type": "code",
   "execution_count": 12,
   "id": "55d444a1",
   "metadata": {},
   "outputs": [
    {
     "data": {
      "text/plain": [
       "3"
      ]
     },
     "execution_count": 12,
     "metadata": {},
     "output_type": "execute_result"
    }
   ],
   "source": [
    "M1[-1][-1]"
   ]
  },
  {
   "cell_type": "markdown",
   "id": "ee1fa03e",
   "metadata": {},
   "source": [
    "Que se debe imprimir al imprimer el siguiente valor"
   ]
  },
  {
   "cell_type": "code",
   "execution_count": 7,
   "id": "cc21ee7a",
   "metadata": {},
   "outputs": [
    {
     "data": {
      "text/plain": [
       "7"
      ]
     },
     "execution_count": 7,
     "metadata": {},
     "output_type": "execute_result"
    }
   ],
   "source": [
    "M1[1,-1]"
   ]
  },
  {
   "cell_type": "code",
   "execution_count": 8,
   "id": "f3df0f54",
   "metadata": {},
   "outputs": [
    {
     "data": {
      "text/plain": [
       "array([[10,  6,  8,  8],\n",
       "       [ 1,  6,  7,  7],\n",
       "       [ 8,  1,  5,  9],\n",
       "       [ 8,  9,  4,  3]])"
      ]
     },
     "execution_count": 8,
     "metadata": {},
     "output_type": "execute_result"
    }
   ],
   "source": [
    "M1[0,0]=10\n",
    "M1"
   ]
  },
  {
   "cell_type": "code",
   "execution_count": 9,
   "id": "1d4e4977",
   "metadata": {},
   "outputs": [
    {
     "data": {
      "text/plain": [
       "array([5, 0, 3, 3, 7, 9, 3, 5, 2, 4])"
      ]
     },
     "execution_count": 9,
     "metadata": {},
     "output_type": "execute_result"
    }
   ],
   "source": [
    "#Asignando un valor real a un arreglo de enteros\n",
    "x1[0]=5.2\n",
    "x1"
   ]
  },
  {
   "cell_type": "markdown",
   "id": "5679cbd0",
   "metadata": {},
   "source": [
    "Dado un vector V de 10 elementos arbitrarios, imprimir un subvector de V que únicamente contenta los elementos impresos de la posición 5 a la posición 8."
   ]
  },
  {
   "cell_type": "code",
   "execution_count": 13,
   "id": "f8451498",
   "metadata": {},
   "outputs": [
    {
     "name": "stdout",
     "output_type": "stream",
     "text": [
      "[9 4 4 6 4 4 3 4 4 8]\n",
      "[4, 3, 4]\n"
     ]
    }
   ],
   "source": [
    "V=np.random.randint(10,size=10)\n",
    "print(V)\n",
    "V2=[]\n",
    "for i in range(5,8):\n",
    "    V2.append(V[i])\n",
    "print(V2)\n",
    "    "
   ]
  },
  {
   "cell_type": "markdown",
   "id": "2df2b4c2",
   "metadata": {},
   "source": [
    "Una de las partes más interesantes de los arreglos en python, particularmente en NumPy es el uso de los slices. \n",
    "\n",
    "**Slicing arrays x[start:stop:step]"
   ]
  },
  {
   "cell_type": "code",
   "execution_count": 15,
   "id": "50ab5e2f",
   "metadata": {},
   "outputs": [
    {
     "name": "stdout",
     "output_type": "stream",
     "text": [
      "[4 3 4]\n"
     ]
    }
   ],
   "source": [
    "print(V[5:8])"
   ]
  },
  {
   "cell_type": "code",
   "execution_count": 22,
   "id": "e3cf8a3d",
   "metadata": {},
   "outputs": [
    {
     "data": {
      "text/plain": [
       "array([3, 7, 9, 3, 5])"
      ]
     },
     "execution_count": 22,
     "metadata": {},
     "output_type": "execute_result"
    }
   ],
   "source": [
    "x1[3:8]"
   ]
  },
  {
   "cell_type": "code",
   "execution_count": 23,
   "id": "e728b48c",
   "metadata": {},
   "outputs": [
    {
     "data": {
      "text/plain": [
       "array([3, 9, 5])"
      ]
     },
     "execution_count": 23,
     "metadata": {},
     "output_type": "execute_result"
    }
   ],
   "source": [
    "x1[3:8:2]"
   ]
  },
  {
   "cell_type": "code",
   "execution_count": 19,
   "id": "f4161a01",
   "metadata": {},
   "outputs": [
    {
     "data": {
      "text/plain": [
       "array([ 0,  1,  2,  3,  4,  5,  6,  7,  8,  9, 10, 11, 12, 13, 14, 15, 16,\n",
       "       17, 18, 19])"
      ]
     },
     "execution_count": 19,
     "metadata": {},
     "output_type": "execute_result"
    }
   ],
   "source": [
    "x=np.arange(20)\n",
    "x"
   ]
  },
  {
   "cell_type": "markdown",
   "id": "e526a932",
   "metadata": {},
   "source": [
    "Que se supone que debe hacer"
   ]
  },
  {
   "cell_type": "code",
   "execution_count": 25,
   "id": "db513943",
   "metadata": {},
   "outputs": [
    {
     "data": {
      "text/plain": [
       "array([3, 4, 5, 6, 7])"
      ]
     },
     "execution_count": 25,
     "metadata": {},
     "output_type": "execute_result"
    }
   ],
   "source": [
    "x[3:8]"
   ]
  },
  {
   "cell_type": "code",
   "execution_count": 27,
   "id": "898ce851",
   "metadata": {},
   "outputs": [
    {
     "name": "stdout",
     "output_type": "stream",
     "text": [
      "[0 1 2 3 4 5 6 7 8]\n",
      "[ 9 10 11 12 13 14 15 16 17 18 19]\n"
     ]
    }
   ],
   "source": [
    "print(x[:9])\n",
    "print(x[9:])"
   ]
  },
  {
   "cell_type": "code",
   "execution_count": 28,
   "id": "cc53799d",
   "metadata": {},
   "outputs": [
    {
     "name": "stdout",
     "output_type": "stream",
     "text": [
      "[ 0  2  4  6  8 10 12 14 16 18]\n"
     ]
    }
   ],
   "source": [
    "print(x[::2])"
   ]
  },
  {
   "cell_type": "code",
   "execution_count": 29,
   "id": "6ec29391",
   "metadata": {},
   "outputs": [
    {
     "name": "stdout",
     "output_type": "stream",
     "text": [
      "[ 3  5  7  9 11 13 15 17 19]\n"
     ]
    }
   ],
   "source": [
    "print(x[3::2])"
   ]
  },
  {
   "cell_type": "code",
   "execution_count": 20,
   "id": "3eac2574",
   "metadata": {},
   "outputs": [
    {
     "name": "stdout",
     "output_type": "stream",
     "text": [
      "[19 17 15 13 11  9  7  5  3  1]\n"
     ]
    }
   ],
   "source": [
    "print(x[::-2])"
   ]
  },
  {
   "cell_type": "code",
   "execution_count": 21,
   "id": "a5d37985",
   "metadata": {},
   "outputs": [
    {
     "name": "stdout",
     "output_type": "stream",
     "text": [
      "[19 18 17 16 15 14 13 12 11 10  9  8  7  6  5  4  3  2  1  0]\n"
     ]
    }
   ],
   "source": [
    "print(x[::-1])"
   ]
  },
  {
   "cell_type": "code",
   "execution_count": 31,
   "id": "70227112",
   "metadata": {},
   "outputs": [
    {
     "name": "stdout",
     "output_type": "stream",
     "text": [
      "[9 7 5 3 1]\n"
     ]
    }
   ],
   "source": [
    "print(x[9::-2])"
   ]
  },
  {
   "cell_type": "markdown",
   "id": "6b612c83",
   "metadata": {},
   "source": [
    "Veamos como utilizar slicings con arreglos de una sola dimensión\n",
    "\n",
    "Trabajemos con el arreglo multidimensional M1\n",
    "\n",
    "La sintaxis es similar, separando por comas el valor para cada fila"
   ]
  },
  {
   "cell_type": "code",
   "execution_count": 52,
   "id": "70e6c580",
   "metadata": {},
   "outputs": [
    {
     "name": "stdout",
     "output_type": "stream",
     "text": [
      "[[2 3 0 0]\n",
      " [6 0 6 3]\n",
      " [3 8 8 8]\n",
      " [2 3 2 0]]\n"
     ]
    }
   ],
   "source": [
    "print(M1)"
   ]
  },
  {
   "cell_type": "code",
   "execution_count": 53,
   "id": "83de29e1",
   "metadata": {},
   "outputs": [
    {
     "data": {
      "text/plain": [
       "array([[0, 6, 3],\n",
       "       [8, 8, 8],\n",
       "       [3, 2, 0]])"
      ]
     },
     "execution_count": 53,
     "metadata": {},
     "output_type": "execute_result"
    }
   ],
   "source": [
    "M1[1:4:1,1:4:1]"
   ]
  },
  {
   "cell_type": "code",
   "execution_count": 54,
   "id": "49aa7f1d",
   "metadata": {},
   "outputs": [
    {
     "data": {
      "text/plain": [
       "array([[0, 2, 3, 2],\n",
       "       [8, 8, 8, 3],\n",
       "       [3, 6, 0, 6],\n",
       "       [0, 0, 3, 2]])"
      ]
     },
     "execution_count": 54,
     "metadata": {},
     "output_type": "execute_result"
    }
   ],
   "source": [
    "M1[::-1,::-1]"
   ]
  },
  {
   "cell_type": "code",
   "execution_count": 55,
   "id": "4e3a5293",
   "metadata": {},
   "outputs": [
    {
     "data": {
      "text/plain": [
       "array([[2, 0],\n",
       "       [6, 6],\n",
       "       [3, 8]])"
      ]
     },
     "execution_count": 55,
     "metadata": {},
     "output_type": "execute_result"
    }
   ],
   "source": [
    "M1[:3,::2]"
   ]
  },
  {
   "cell_type": "code",
   "execution_count": 56,
   "id": "2ec77043",
   "metadata": {},
   "outputs": [
    {
     "data": {
      "text/plain": [
       "2"
      ]
     },
     "execution_count": 56,
     "metadata": {},
     "output_type": "execute_result"
    }
   ],
   "source": [
    "M1[0,0]"
   ]
  },
  {
   "cell_type": "code",
   "execution_count": 55,
   "id": "e37fd7a6",
   "metadata": {},
   "outputs": [
    {
     "data": {
      "text/plain": [
       "array([10,  8])"
      ]
     },
     "execution_count": 55,
     "metadata": {},
     "output_type": "execute_result"
    }
   ],
   "source": [
    "M1[::2,0]"
   ]
  },
  {
   "cell_type": "code",
   "execution_count": 56,
   "id": "b1254025",
   "metadata": {},
   "outputs": [
    {
     "name": "stdout",
     "output_type": "stream",
     "text": [
      "[[20  8]\n",
      " [ 8  5]]\n"
     ]
    }
   ],
   "source": [
    "M1[0,0]=20\n",
    "print(M1[::2,::2])"
   ]
  },
  {
   "cell_type": "code",
   "execution_count": 58,
   "id": "906d6baa",
   "metadata": {},
   "outputs": [
    {
     "name": "stdout",
     "output_type": "stream",
     "text": [
      "[[20  6  8  8]\n",
      " [ 1  6  7  7]\n",
      " [ 8  1  5  9]\n",
      " [ 8  9  4  3]]\n"
     ]
    }
   ],
   "source": [
    "print(M1)"
   ]
  },
  {
   "cell_type": "code",
   "execution_count": 57,
   "id": "fa1b36b7",
   "metadata": {},
   "outputs": [
    {
     "name": "stdout",
     "output_type": "stream",
     "text": [
      "[[20  6]\n",
      " [ 1  6]]\n"
     ]
    }
   ],
   "source": [
    "M1_subarray=M1[:2,:2]\n",
    "print(M1_subarray)"
   ]
  },
  {
   "cell_type": "code",
   "execution_count": 59,
   "id": "990106d4",
   "metadata": {},
   "outputs": [
    {
     "name": "stdout",
     "output_type": "stream",
     "text": [
      "[[20  6]\n",
      " [ 1  6]]\n"
     ]
    }
   ],
   "source": [
    "M1_subarray_copy=M1_subarray.copy()\n",
    "print(M1_subarray_copy)"
   ]
  },
  {
   "cell_type": "code",
   "execution_count": null,
   "id": "5dfad538",
   "metadata": {},
   "outputs": [],
   "source": [
    "####REDIMENSIONAR UN ARREGLO\n",
    "####REDIMENSIONAR UN ARREGLO\n",
    "####REDIMENSIONAR UN ARREGLO\n",
    "####REDIMENSIONAR UN ARREGLO"
   ]
  },
  {
   "cell_type": "code",
   "execution_count": 60,
   "id": "526ced1a",
   "metadata": {},
   "outputs": [],
   "source": [
    "#Now, veamos como utilizar el reshape\n",
    "a=np.arange(9).reshape(3,3)"
   ]
  },
  {
   "cell_type": "code",
   "execution_count": 61,
   "id": "2ac402f9",
   "metadata": {},
   "outputs": [
    {
     "data": {
      "text/plain": [
       "array([[0, 1, 2],\n",
       "       [3, 4, 5],\n",
       "       [6, 7, 8]])"
      ]
     },
     "execution_count": 61,
     "metadata": {},
     "output_type": "execute_result"
    }
   ],
   "source": [
    "a"
   ]
  },
  {
   "cell_type": "code",
   "execution_count": 62,
   "id": "f77dd2be",
   "metadata": {},
   "outputs": [
    {
     "name": "stdout",
     "output_type": "stream",
     "text": [
      "[0 1 2 3 4 5 6 7 8]\n"
     ]
    }
   ],
   "source": [
    "b=a.reshape(9)\n",
    "print(b)"
   ]
  },
  {
   "cell_type": "code",
   "execution_count": null,
   "id": "65d9aaa9",
   "metadata": {},
   "outputs": [],
   "source": [
    "####VAMOS A CONCATENAR UN PAR DE ARREGLOS Y FORMAR UNO NUEVO\n",
    "####VAMOS A CONCATENAR UN PAR DE ARREGLOS Y FORMAR UNO NUEVO\n",
    "####VAMOS A CONCATENAR UN PAR DE ARREGLOS Y FORMAR UNO NUEVO\n",
    "####VAMOS A CONCATENAR UN PAR DE ARREGLOS Y FORMAR UNO NUEVO\n",
    "####VAMOS A CONCATENAR UN PAR DE ARREGLOS Y FORMAR UNO NUEVO"
   ]
  },
  {
   "cell_type": "code",
   "execution_count": 167,
   "id": "0cd3934d",
   "metadata": {},
   "outputs": [
    {
     "name": "stdout",
     "output_type": "stream",
     "text": [
      "[1 2 3 4 5 0 2 4]\n"
     ]
    }
   ],
   "source": [
    "#concatenate arrays\n",
    "x=np.array([1,2,3,4,5])\n",
    "y=np.array([0,2,4])\n",
    "z=np.concatenate((x,y))\n",
    "print(z)"
   ]
  },
  {
   "cell_type": "code",
   "execution_count": 153,
   "id": "f40ec685",
   "metadata": {},
   "outputs": [
    {
     "name": "stdout",
     "output_type": "stream",
     "text": [
      "[[0 1 2]\n",
      " [3 4 5]\n",
      " [6 7 8]]\n"
     ]
    }
   ],
   "source": [
    "myArray1=np.arange(9).reshape(3,3)\n",
    "print(myArray1)"
   ]
  },
  {
   "cell_type": "code",
   "execution_count": 168,
   "id": "a8200db5",
   "metadata": {},
   "outputs": [
    {
     "name": "stdout",
     "output_type": "stream",
     "text": [
      "[[0 1 2]\n",
      " [3 4 5]\n",
      " [6 7 8]\n",
      " [0 1 2]\n",
      " [3 4 5]\n",
      " [6 7 8]]\n"
     ]
    }
   ],
   "source": [
    "myArray2=np.concatenate((myArray1, myArray1))\n",
    "print(myArray2)"
   ]
  },
  {
   "cell_type": "code",
   "execution_count": 169,
   "id": "0fda27ce",
   "metadata": {},
   "outputs": [
    {
     "name": "stdout",
     "output_type": "stream",
     "text": [
      "[[1 2 3]\n",
      " [4 5 6]]\n"
     ]
    }
   ],
   "source": [
    "grid = np.array(([1, 2, 3],[4, 5, 6]))\n",
    "print(grid)\n"
   ]
  },
  {
   "cell_type": "code",
   "execution_count": 42,
   "id": "22e44a33",
   "metadata": {},
   "outputs": [
    {
     "data": {
      "text/plain": [
       "array([[8, 8, 8],\n",
       "       [7, 7, 7]])"
      ]
     },
     "execution_count": 42,
     "metadata": {},
     "output_type": "execute_result"
    }
   ],
   "source": [
    "grid2 = np.array(([8, 8, 8],[7, 7, 7]))\n",
    "grid2"
   ]
  },
  {
   "cell_type": "code",
   "execution_count": 43,
   "id": "c304a1a2",
   "metadata": {},
   "outputs": [
    {
     "name": "stdout",
     "output_type": "stream",
     "text": [
      "[[ 2  3  3]\n",
      " [18 14  3]\n",
      " [17 18 14]\n",
      " [ 9  1  4]\n",
      " [10 11  8]]\n"
     ]
    }
   ],
   "source": [
    "grid3=np.random.randint(20,size=(5,3))\n",
    "print(grid3)"
   ]
  },
  {
   "cell_type": "code",
   "execution_count": 44,
   "id": "4dd53ae0",
   "metadata": {},
   "outputs": [
    {
     "name": "stdout",
     "output_type": "stream",
     "text": [
      "[[8 8 8]\n",
      " [7 7 7]\n",
      " [8 8 8]\n",
      " [7 7 7]]\n"
     ]
    }
   ],
   "source": [
    "z1=np.concatenate((grid2, grid2))\n",
    "print(z1)"
   ]
  },
  {
   "cell_type": "code",
   "execution_count": 47,
   "id": "36d125f6",
   "metadata": {},
   "outputs": [
    {
     "name": "stdout",
     "output_type": "stream",
     "text": [
      "[[ 8  8  8]\n",
      " [ 7  7  7]\n",
      " [ 2  3  3]\n",
      " [18 14  3]\n",
      " [17 18 14]\n",
      " [ 9  1  4]\n",
      " [10 11  8]]\n"
     ]
    }
   ],
   "source": [
    "z1=np.concatenate((grid2,grid3))\n",
    "print(z1)"
   ]
  },
  {
   "cell_type": "code",
   "execution_count": 157,
   "id": "7c1e9474",
   "metadata": {},
   "outputs": [
    {
     "name": "stdout",
     "output_type": "stream",
     "text": [
      "[[1 2 3]\n",
      " [4 5 6]\n",
      " [8 8 8]\n",
      " [7 7 7]]\n"
     ]
    }
   ],
   "source": [
    "z2=np.concatenate((grid, grid2))\n",
    "print(z2)"
   ]
  },
  {
   "cell_type": "code",
   "execution_count": 171,
   "id": "35755abf",
   "metadata": {},
   "outputs": [
    {
     "name": "stdout",
     "output_type": "stream",
     "text": [
      "[[1 2]\n",
      " [3 4]]\n"
     ]
    }
   ],
   "source": [
    "myVector=np.vstack(([1,2], [3,4]))\n",
    "print(myVector)"
   ]
  },
  {
   "cell_type": "code",
   "execution_count": 172,
   "id": "ae88e64d",
   "metadata": {},
   "outputs": [
    {
     "name": "stdout",
     "output_type": "stream",
     "text": [
      "[1 2 3 4]\n"
     ]
    }
   ],
   "source": [
    "myVector=np.hstack(([1,2],[3,4]))\n",
    "print(myVector)"
   ]
  },
  {
   "cell_type": "code",
   "execution_count": 89,
   "id": "225e23a0",
   "metadata": {},
   "outputs": [
    {
     "name": "stdout",
     "output_type": "stream",
     "text": [
      "[[1 2 3]\n",
      " [4 5 6]\n",
      " [8 8 8]\n",
      " [7 7 7]]\n"
     ]
    }
   ],
   "source": [
    "z3=np.vstack((grid,grid2))\n",
    "print(z3)"
   ]
  },
  {
   "cell_type": "code",
   "execution_count": 90,
   "id": "d7101817",
   "metadata": {},
   "outputs": [
    {
     "name": "stdout",
     "output_type": "stream",
     "text": [
      "[[1 2 3 8 8 8]\n",
      " [4 5 6 7 7 7]]\n"
     ]
    }
   ],
   "source": [
    "z4=np.hstack((grid,grid2))\n",
    "print(z4)"
   ]
  },
  {
   "cell_type": "code",
   "execution_count": 50,
   "id": "84e92070",
   "metadata": {},
   "outputs": [
    {
     "name": "stdout",
     "output_type": "stream",
     "text": [
      "[[ 8  8  8]\n",
      " [ 7  7  7]\n",
      " [ 2  3  3]\n",
      " [18 14  3]\n",
      " [17 18 14]\n",
      " [ 9  1  4]\n",
      " [10 11  8]]\n"
     ]
    }
   ],
   "source": [
    "z5=np.vstack((grid2,grid3))\n",
    "print(z5)"
   ]
  },
  {
   "cell_type": "code",
   "execution_count": null,
   "id": "fc38cf73",
   "metadata": {},
   "outputs": [],
   "source": [
    "####VAMOS A DIVIDIR UN ARREGLO\n",
    "####VAMOS A DIVIDIR UN ARREGLO\n",
    "####VAMOS A DIVIDIR UN ARREGLO\n",
    "####VAMOS A DIVIDIR UN ARREGLO"
   ]
  },
  {
   "cell_type": "code",
   "execution_count": 25,
   "id": "09c4cc55",
   "metadata": {},
   "outputs": [
    {
     "name": "stdout",
     "output_type": "stream",
     "text": [
      "[array([0, 1]), array([2, 3]), array([4, 5]), array([6, 7]), array([8, 9])]\n"
     ]
    }
   ],
   "source": [
    "#Opposite to concatenate, we can split\n",
    "V1=np.arange(10)\n",
    "z=np.split(V1,5)\n",
    "print(z)"
   ]
  },
  {
   "cell_type": "code",
   "execution_count": 26,
   "id": "ac896351",
   "metadata": {},
   "outputs": [
    {
     "name": "stdout",
     "output_type": "stream",
     "text": [
      "[array([0, 1, 2, 3, 4]), array([5, 6, 7, 8, 9])]\n"
     ]
    }
   ],
   "source": [
    "z=np.split(V1,2)\n",
    "print(z)"
   ]
  },
  {
   "cell_type": "code",
   "execution_count": 174,
   "id": "926f2de9",
   "metadata": {},
   "outputs": [
    {
     "name": "stdout",
     "output_type": "stream",
     "text": [
      "[0 1 2 3 4 5 6 7 8 9]\n"
     ]
    }
   ],
   "source": [
    "print(V1)"
   ]
  },
  {
   "cell_type": "code",
   "execution_count": 178,
   "id": "ee5d56dd",
   "metadata": {},
   "outputs": [
    {
     "name": "stdout",
     "output_type": "stream",
     "text": [
      "[array([0, 1]), array([2, 3]), array([4, 5, 6, 7]), array([8, 9])]\n"
     ]
    }
   ],
   "source": [
    "Z=np.split(V1,[2,4,8])\n",
    "print(Z)"
   ]
  },
  {
   "cell_type": "code",
   "execution_count": null,
   "id": "1ceb8ab1",
   "metadata": {},
   "outputs": [],
   "source": []
  },
  {
   "cell_type": "code",
   "execution_count": 28,
   "id": "1c594a65",
   "metadata": {},
   "outputs": [
    {
     "name": "stdout",
     "output_type": "stream",
     "text": [
      "[0 1 2 3 4 5 6 7 8]\n"
     ]
    }
   ],
   "source": [
    "M1=np.arange(9)\n",
    "print(M1)"
   ]
  },
  {
   "cell_type": "code",
   "execution_count": 29,
   "id": "396ac734",
   "metadata": {},
   "outputs": [
    {
     "name": "stdout",
     "output_type": "stream",
     "text": [
      "[array([0, 1, 2]), array([3, 4, 5]), array([6, 7, 8])]\n"
     ]
    }
   ],
   "source": [
    "V1=np.split(M1,3)\n",
    "print(V1)"
   ]
  },
  {
   "cell_type": "code",
   "execution_count": 30,
   "id": "4494084a",
   "metadata": {},
   "outputs": [
    {
     "name": "stdout",
     "output_type": "stream",
     "text": [
      "[[0 1 2]\n",
      " [3 4 5]\n",
      " [6 7 8]]\n"
     ]
    }
   ],
   "source": [
    "M1=M1.reshape(3,3)\n",
    "print(M1)"
   ]
  },
  {
   "cell_type": "code",
   "execution_count": 31,
   "id": "c83c2343",
   "metadata": {},
   "outputs": [],
   "source": [
    "s1,s2,s3=np.split(M1,3)"
   ]
  },
  {
   "cell_type": "code",
   "execution_count": 32,
   "id": "a3f06eb0",
   "metadata": {},
   "outputs": [
    {
     "name": "stdout",
     "output_type": "stream",
     "text": [
      "[[0 1 2]] [[3 4 5]] [[6 7 8]]\n"
     ]
    }
   ],
   "source": [
    "print(s1,s2,s3)"
   ]
  },
  {
   "cell_type": "code",
   "execution_count": 33,
   "id": "711ceb9a",
   "metadata": {},
   "outputs": [
    {
     "name": "stdout",
     "output_type": "stream",
     "text": [
      "[[ 0  1  2  3]\n",
      " [ 4  5  6  7]\n",
      " [ 8  9 10 11]\n",
      " [12 13 14 15]]\n"
     ]
    }
   ],
   "source": [
    "M2=np.arange(16).reshape(4,4)\n",
    "print(M2)"
   ]
  },
  {
   "cell_type": "code",
   "execution_count": 37,
   "id": "ff822e13",
   "metadata": {},
   "outputs": [
    {
     "name": "stdout",
     "output_type": "stream",
     "text": [
      "[[0 1 2 3]\n",
      " [4 5 6 7]]\n",
      "[[ 8  9 10 11]\n",
      " [12 13 14 15]]\n",
      "[]\n"
     ]
    }
   ],
   "source": [
    "M3=np.split(M2,[2,4])\n",
    "print(M3[0])\n",
    "print(M3[1])\n",
    "print(M3[2])"
   ]
  },
  {
   "cell_type": "markdown",
   "id": "417f1f7d",
   "metadata": {},
   "source": [
    " upper, lower=np.vsplit(M2,2)\n",
    "print(upper)\n",
    "print(lower)"
   ]
  },
  {
   "cell_type": "code",
   "execution_count": 189,
   "id": "a1f548a1",
   "metadata": {},
   "outputs": [
    {
     "name": "stdout",
     "output_type": "stream",
     "text": [
      "[[0 1 2 3]\n",
      " [4 5 6 7]]\n",
      "[[ 8  9 10 11]\n",
      " [12 13 14 15]]\n"
     ]
    }
   ],
   "source": [
    "up, down=np.vsplit(M2,2)\n",
    "print(up)\n",
    "print(down)"
   ]
  },
  {
   "cell_type": "code",
   "execution_count": 188,
   "id": "d6412fd5",
   "metadata": {},
   "outputs": [
    {
     "name": "stdout",
     "output_type": "stream",
     "text": [
      "[[ 0  1]\n",
      " [ 4  5]\n",
      " [ 8  9]\n",
      " [12 13]]\n",
      "[[ 2  3]\n",
      " [ 6  7]\n",
      " [10 11]\n",
      " [14 15]]\n"
     ]
    }
   ],
   "source": [
    "left,right=np.hsplit(M2,2)\n",
    "print(left)\n",
    "print(right)"
   ]
  },
  {
   "cell_type": "code",
   "execution_count": 57,
   "id": "3e4557d5",
   "metadata": {},
   "outputs": [
    {
     "name": "stdout",
     "output_type": "stream",
     "text": [
      "[[40 72 19]\n",
      " [95 72 26]\n",
      " [66 52 67]\n",
      " [61 14 96]]\n",
      "[[ 4]\n",
      " [67]\n",
      " [11]\n",
      " [86]]\n"
     ]
    }
   ],
   "source": [
    "M1=np.random.randint(100,size=(4,3))\n",
    "M2=np.random.randint(100,size=(4,1))\n",
    "print(M1)\n",
    "print(M2)"
   ]
  },
  {
   "cell_type": "code",
   "execution_count": 65,
   "id": "106065d7",
   "metadata": {},
   "outputs": [
    {
     "data": {
      "text/plain": [
       "array([[40, 72, 19,  4],\n",
       "       [95, 72, 26, 67],\n",
       "       [66, 52, 67, 11],\n",
       "       [61, 14, 96, 86]])"
      ]
     },
     "execution_count": 65,
     "metadata": {},
     "output_type": "execute_result"
    }
   ],
   "source": [
    "np.hstack((M1,M2))"
   ]
  },
  {
   "cell_type": "code",
   "execution_count": null,
   "id": "623d965f",
   "metadata": {},
   "outputs": [],
   "source": []
  }
 ],
 "metadata": {
  "kernelspec": {
   "display_name": "Python 3 (ipykernel)",
   "language": "python",
   "name": "python3"
  },
  "language_info": {
   "codemirror_mode": {
    "name": "ipython",
    "version": 3
   },
   "file_extension": ".py",
   "mimetype": "text/x-python",
   "name": "python",
   "nbconvert_exporter": "python",
   "pygments_lexer": "ipython3",
   "version": "3.8.12"
  }
 },
 "nbformat": 4,
 "nbformat_minor": 5
}
