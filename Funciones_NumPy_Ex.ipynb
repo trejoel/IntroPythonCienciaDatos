{
 "cells": [
  {
   "cell_type": "code",
   "execution_count": 1,
   "id": "b635430c",
   "metadata": {},
   "outputs": [],
   "source": [
    "\n",
    "import numpy as np\n",
    "#Ex 1\n",
    "M1=np.random.randint(-100,100,size=9).reshape(3,3)"
   ]
  },
  {
   "cell_type": "code",
   "execution_count": 2,
   "id": "4455957b",
   "metadata": {},
   "outputs": [
    {
     "data": {
      "text/plain": [
       "array([[-28, -17, -68],\n",
       "       [ 28,  91,  88],\n",
       "       [ 65,  -9, -20]])"
      ]
     },
     "execution_count": 2,
     "metadata": {},
     "output_type": "execute_result"
    }
   ],
   "source": [
    "M1"
   ]
  },
  {
   "cell_type": "code",
   "execution_count": 3,
   "id": "2cc64be4",
   "metadata": {},
   "outputs": [
    {
     "name": "stdout",
     "output_type": "stream",
     "text": [
      "[[28 17 68]\n",
      " [28 91 88]\n",
      " [65  9 20]]\n"
     ]
    }
   ],
   "source": [
    "#Ex 2\n",
    "M2=abs(M1)\n",
    "print(M2)"
   ]
  },
  {
   "cell_type": "code",
   "execution_count": 4,
   "id": "efc6793e",
   "metadata": {},
   "outputs": [
    {
     "name": "stdout",
     "output_type": "stream",
     "text": [
      "[65 65  0]\n",
      "[121 117 176]\n",
      "130\n",
      "414\n"
     ]
    }
   ],
   "source": [
    "#Ex 3\n",
    "suma_todos=np.add.reduce(M1)\n",
    "suma_absolutos=np.add.reduce(M2)\n",
    "print(suma_todos)\n",
    "print(suma_absolutos)\n",
    "print(np.add.reduce(suma_todos))\n",
    "print(np.add.reduce(suma_absolutos))"
   ]
  },
  {
   "cell_type": "code",
   "execution_count": 6,
   "id": "8b1ac61c",
   "metadata": {},
   "outputs": [],
   "source": [
    "#Ex 4\n",
    "def divisores(x):\n",
    "    suma=0\n",
    "    auxArray=[i for i in range(1,x+1) if x%i==0]\n",
    "    cuantos=len(auxArray)\n",
    "    return cuantos\n"
   ]
  },
  {
   "cell_type": "code",
   "execution_count": 9,
   "id": "7f847537",
   "metadata": {},
   "outputs": [
    {
     "name": "stdout",
     "output_type": "stream",
     "text": [
      "Matriz M2:\n",
      " [[28 17 68]\n",
      " [28 91 88]\n",
      " [65  9 20]]\n",
      "[[6 2 6]\n",
      " [6 4 8]\n",
      " [4 3 6]]\n"
     ]
    }
   ],
   "source": [
    "\n",
    "M4=np.zeros(9).reshape(3,3)\n",
    "print(\"Matriz M2:\\n\",M2)\n",
    "for i in range(0,M2.ndim+1):\n",
    "    M4[i]=np.array(list(map(lambda a:divisores(a),M2[i])))\n",
    "M4=M4.astype(int)\n",
    "print(M4)"
   ]
  },
  {
   "cell_type": "code",
   "execution_count": null,
   "id": "8113d76c",
   "metadata": {},
   "outputs": [],
   "source": []
  }
 ],
 "metadata": {
  "kernelspec": {
   "display_name": "Python 3 (ipykernel)",
   "language": "python",
   "name": "python3"
  },
  "language_info": {
   "codemirror_mode": {
    "name": "ipython",
    "version": 3
   },
   "file_extension": ".py",
   "mimetype": "text/x-python",
   "name": "python",
   "nbconvert_exporter": "python",
   "pygments_lexer": "ipython3",
   "version": "3.8.12"
  }
 },
 "nbformat": 4,
 "nbformat_minor": 5
}
